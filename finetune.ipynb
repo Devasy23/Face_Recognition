{
  "cells": [
    {
      "cell_type": "code",
      "execution_count": 10,
      "metadata": {
        "colab": {
          "base_uri": "https://localhost:8080/"
        },
        "id": "yCmuF0_LHxRA",
        "outputId": "60440cdf-bbf9-4957-dc56-f40090e9c5a5"
      },
      "outputs": [
        {
          "name": "stdout",
          "output_type": "stream",
          "text": [
            "Looking in indexes: https://pypi.org/simple, https://us-python.pkg.dev/colab-wheels/public/simple/\n",
            "Collecting deepface\n",
            "  Downloading deepface-0.0.79-py3-none-any.whl (49 kB)\n",
            "\u001b[2K     \u001b[90m━━━━━━━━━━━━━━━━━━━━━━━━━━━━━━━━━━━━━━━━\u001b[0m \u001b[32m49.6/49.6 kB\u001b[0m \u001b[31m4.7 MB/s\u001b[0m eta \u001b[36m0:00:00\u001b[0m\n",
            "\u001b[?25hRequirement already satisfied: numpy>=1.14.0 in /usr/local/lib/python3.10/dist-packages (from deepface) (1.22.4)\n",
            "Requirement already satisfied: pandas>=0.23.4 in /usr/local/lib/python3.10/dist-packages (from deepface) (1.5.3)\n",
            "Requirement already satisfied: tqdm>=4.30.0 in /usr/local/lib/python3.10/dist-packages (from deepface) (4.65.0)\n",
            "Requirement already satisfied: gdown>=3.10.1 in /usr/local/lib/python3.10/dist-packages (from deepface) (4.6.6)\n",
            "Requirement already satisfied: Pillow>=5.2.0 in /usr/local/lib/python3.10/dist-packages (from deepface) (8.4.0)\n",
            "Requirement already satisfied: opencv-python>=4.5.5.64 in /usr/local/lib/python3.10/dist-packages (from deepface) (4.7.0.72)\n",
            "Requirement already satisfied: tensorflow>=1.9.0 in /usr/local/lib/python3.10/dist-packages (from deepface) (2.12.0)\n",
            "Requirement already satisfied: keras>=2.2.0 in /usr/local/lib/python3.10/dist-packages (from deepface) (2.12.0)\n",
            "Requirement already satisfied: Flask>=1.1.2 in /usr/local/lib/python3.10/dist-packages (from deepface) (2.2.5)\n",
            "Collecting mtcnn>=0.1.0 (from deepface)\n",
            "  Downloading mtcnn-0.1.1-py3-none-any.whl (2.3 MB)\n",
            "\u001b[2K     \u001b[90m━━━━━━━━━━━━━━━━━━━━━━━━━━━━━━━━━━━━━━━━\u001b[0m \u001b[32m2.3/2.3 MB\u001b[0m \u001b[31m63.5 MB/s\u001b[0m eta \u001b[36m0:00:00\u001b[0m\n",
            "\u001b[?25hCollecting retina-face>=0.0.1 (from deepface)\n",
            "  Downloading retina_face-0.0.13-py3-none-any.whl (16 kB)\n",
            "Collecting fire>=0.4.0 (from deepface)\n",
            "  Downloading fire-0.5.0.tar.gz (88 kB)\n",
            "\u001b[2K     \u001b[90m━━━━━━━━━━━━━━━━━━━━━━━━━━━━━━━━━━━━━━━━\u001b[0m \u001b[32m88.3/88.3 kB\u001b[0m \u001b[31m11.1 MB/s\u001b[0m eta \u001b[36m0:00:00\u001b[0m\n",
            "\u001b[?25h  Preparing metadata (setup.py) ... \u001b[?25l\u001b[?25hdone\n",
            "Collecting gunicorn>=20.1.0 (from deepface)\n",
            "  Downloading gunicorn-20.1.0-py3-none-any.whl (79 kB)\n",
            "\u001b[2K     \u001b[90m━━━━━━━━━━━━━━━━━━━━━━━━━━━━━━━━━━━━━━━━\u001b[0m \u001b[32m79.5/79.5 kB\u001b[0m \u001b[31m10.8 MB/s\u001b[0m eta \u001b[36m0:00:00\u001b[0m\n",
            "\u001b[?25hRequirement already satisfied: six in /usr/local/lib/python3.10/dist-packages (from fire>=0.4.0->deepface) (1.16.0)\n",
            "Requirement already satisfied: termcolor in /usr/local/lib/python3.10/dist-packages (from fire>=0.4.0->deepface) (2.3.0)\n",
            "Requirement already satisfied: Werkzeug>=2.2.2 in /usr/local/lib/python3.10/dist-packages (from Flask>=1.1.2->deepface) (2.3.6)\n",
            "Requirement already satisfied: Jinja2>=3.0 in /usr/local/lib/python3.10/dist-packages (from Flask>=1.1.2->deepface) (3.1.2)\n",
            "Requirement already satisfied: itsdangerous>=2.0 in /usr/local/lib/python3.10/dist-packages (from Flask>=1.1.2->deepface) (2.1.2)\n",
            "Requirement already satisfied: click>=8.0 in /usr/local/lib/python3.10/dist-packages (from Flask>=1.1.2->deepface) (8.1.3)\n",
            "Requirement already satisfied: filelock in /usr/local/lib/python3.10/dist-packages (from gdown>=3.10.1->deepface) (3.12.2)\n",
            "Requirement already satisfied: requests[socks] in /usr/local/lib/python3.10/dist-packages (from gdown>=3.10.1->deepface) (2.27.1)\n",
            "Requirement already satisfied: beautifulsoup4 in /usr/local/lib/python3.10/dist-packages (from gdown>=3.10.1->deepface) (4.11.2)\n",
            "Requirement already satisfied: setuptools>=3.0 in /usr/local/lib/python3.10/dist-packages (from gunicorn>=20.1.0->deepface) (67.7.2)\n",
            "Requirement already satisfied: python-dateutil>=2.8.1 in /usr/local/lib/python3.10/dist-packages (from pandas>=0.23.4->deepface) (2.8.2)\n",
            "Requirement already satisfied: pytz>=2020.1 in /usr/local/lib/python3.10/dist-packages (from pandas>=0.23.4->deepface) (2022.7.1)\n",
            "Requirement already satisfied: absl-py>=1.0.0 in /usr/local/lib/python3.10/dist-packages (from tensorflow>=1.9.0->deepface) (1.4.0)\n",
            "Requirement already satisfied: astunparse>=1.6.0 in /usr/local/lib/python3.10/dist-packages (from tensorflow>=1.9.0->deepface) (1.6.3)\n",
            "Requirement already satisfied: flatbuffers>=2.0 in /usr/local/lib/python3.10/dist-packages (from tensorflow>=1.9.0->deepface) (23.5.26)\n",
            "Requirement already satisfied: gast<=0.4.0,>=0.2.1 in /usr/local/lib/python3.10/dist-packages (from tensorflow>=1.9.0->deepface) (0.4.0)\n",
            "Requirement already satisfied: google-pasta>=0.1.1 in /usr/local/lib/python3.10/dist-packages (from tensorflow>=1.9.0->deepface) (0.2.0)\n",
            "Requirement already satisfied: grpcio<2.0,>=1.24.3 in /usr/local/lib/python3.10/dist-packages (from tensorflow>=1.9.0->deepface) (1.54.2)\n",
            "Requirement already satisfied: h5py>=2.9.0 in /usr/local/lib/python3.10/dist-packages (from tensorflow>=1.9.0->deepface) (3.8.0)\n",
            "Requirement already satisfied: jax>=0.3.15 in /usr/local/lib/python3.10/dist-packages (from tensorflow>=1.9.0->deepface) (0.4.10)\n",
            "Requirement already satisfied: libclang>=13.0.0 in /usr/local/lib/python3.10/dist-packages (from tensorflow>=1.9.0->deepface) (16.0.0)\n",
            "Requirement already satisfied: opt-einsum>=2.3.2 in /usr/local/lib/python3.10/dist-packages (from tensorflow>=1.9.0->deepface) (3.3.0)\n",
            "Requirement already satisfied: packaging in /usr/local/lib/python3.10/dist-packages (from tensorflow>=1.9.0->deepface) (23.1)\n",
            "Requirement already satisfied: protobuf!=4.21.0,!=4.21.1,!=4.21.2,!=4.21.3,!=4.21.4,!=4.21.5,<5.0.0dev,>=3.20.3 in /usr/local/lib/python3.10/dist-packages (from tensorflow>=1.9.0->deepface) (3.20.3)\n",
            "Requirement already satisfied: tensorboard<2.13,>=2.12 in /usr/local/lib/python3.10/dist-packages (from tensorflow>=1.9.0->deepface) (2.12.3)\n",
            "Requirement already satisfied: tensorflow-estimator<2.13,>=2.12.0 in /usr/local/lib/python3.10/dist-packages (from tensorflow>=1.9.0->deepface) (2.12.0)\n",
            "Requirement already satisfied: typing-extensions>=3.6.6 in /usr/local/lib/python3.10/dist-packages (from tensorflow>=1.9.0->deepface) (4.6.3)\n",
            "Requirement already satisfied: wrapt<1.15,>=1.11.0 in /usr/local/lib/python3.10/dist-packages (from tensorflow>=1.9.0->deepface) (1.14.1)\n",
            "Requirement already satisfied: tensorflow-io-gcs-filesystem>=0.23.1 in /usr/local/lib/python3.10/dist-packages (from tensorflow>=1.9.0->deepface) (0.32.0)\n",
            "Requirement already satisfied: wheel<1.0,>=0.23.0 in /usr/local/lib/python3.10/dist-packages (from astunparse>=1.6.0->tensorflow>=1.9.0->deepface) (0.40.0)\n",
            "Requirement already satisfied: ml-dtypes>=0.1.0 in /usr/local/lib/python3.10/dist-packages (from jax>=0.3.15->tensorflow>=1.9.0->deepface) (0.2.0)\n",
            "Requirement already satisfied: scipy>=1.7 in /usr/local/lib/python3.10/dist-packages (from jax>=0.3.15->tensorflow>=1.9.0->deepface) (1.10.1)\n",
            "Requirement already satisfied: MarkupSafe>=2.0 in /usr/local/lib/python3.10/dist-packages (from Jinja2>=3.0->Flask>=1.1.2->deepface) (2.1.3)\n",
            "Requirement already satisfied: google-auth<3,>=1.6.3 in /usr/local/lib/python3.10/dist-packages (from tensorboard<2.13,>=2.12->tensorflow>=1.9.0->deepface) (2.17.3)\n",
            "Requirement already satisfied: google-auth-oauthlib<1.1,>=0.5 in /usr/local/lib/python3.10/dist-packages (from tensorboard<2.13,>=2.12->tensorflow>=1.9.0->deepface) (1.0.0)\n",
            "Requirement already satisfied: markdown>=2.6.8 in /usr/local/lib/python3.10/dist-packages (from tensorboard<2.13,>=2.12->tensorflow>=1.9.0->deepface) (3.4.3)\n",
            "Requirement already satisfied: tensorboard-data-server<0.8.0,>=0.7.0 in /usr/local/lib/python3.10/dist-packages (from tensorboard<2.13,>=2.12->tensorflow>=1.9.0->deepface) (0.7.1)\n",
            "Requirement already satisfied: soupsieve>1.2 in /usr/local/lib/python3.10/dist-packages (from beautifulsoup4->gdown>=3.10.1->deepface) (2.4.1)\n",
            "Requirement already satisfied: urllib3<1.27,>=1.21.1 in /usr/local/lib/python3.10/dist-packages (from requests[socks]->gdown>=3.10.1->deepface) (1.26.16)\n",
            "Requirement already satisfied: certifi>=2017.4.17 in /usr/local/lib/python3.10/dist-packages (from requests[socks]->gdown>=3.10.1->deepface) (2023.5.7)\n",
            "Requirement already satisfied: charset-normalizer~=2.0.0 in /usr/local/lib/python3.10/dist-packages (from requests[socks]->gdown>=3.10.1->deepface) (2.0.12)\n",
            "Requirement already satisfied: idna<4,>=2.5 in /usr/local/lib/python3.10/dist-packages (from requests[socks]->gdown>=3.10.1->deepface) (3.4)\n",
            "Requirement already satisfied: PySocks!=1.5.7,>=1.5.6 in /usr/local/lib/python3.10/dist-packages (from requests[socks]->gdown>=3.10.1->deepface) (1.7.1)\n",
            "Requirement already satisfied: cachetools<6.0,>=2.0.0 in /usr/local/lib/python3.10/dist-packages (from google-auth<3,>=1.6.3->tensorboard<2.13,>=2.12->tensorflow>=1.9.0->deepface) (5.3.1)\n",
            "Requirement already satisfied: pyasn1-modules>=0.2.1 in /usr/local/lib/python3.10/dist-packages (from google-auth<3,>=1.6.3->tensorboard<2.13,>=2.12->tensorflow>=1.9.0->deepface) (0.3.0)\n",
            "Requirement already satisfied: rsa<5,>=3.1.4 in /usr/local/lib/python3.10/dist-packages (from google-auth<3,>=1.6.3->tensorboard<2.13,>=2.12->tensorflow>=1.9.0->deepface) (4.9)\n",
            "Requirement already satisfied: requests-oauthlib>=0.7.0 in /usr/local/lib/python3.10/dist-packages (from google-auth-oauthlib<1.1,>=0.5->tensorboard<2.13,>=2.12->tensorflow>=1.9.0->deepface) (1.3.1)\n",
            "Requirement already satisfied: pyasn1<0.6.0,>=0.4.6 in /usr/local/lib/python3.10/dist-packages (from pyasn1-modules>=0.2.1->google-auth<3,>=1.6.3->tensorboard<2.13,>=2.12->tensorflow>=1.9.0->deepface) (0.5.0)\n",
            "Requirement already satisfied: oauthlib>=3.0.0 in /usr/local/lib/python3.10/dist-packages (from requests-oauthlib>=0.7.0->google-auth-oauthlib<1.1,>=0.5->tensorboard<2.13,>=2.12->tensorflow>=1.9.0->deepface) (3.2.2)\n",
            "Building wheels for collected packages: fire\n",
            "  Building wheel for fire (setup.py) ... \u001b[?25l\u001b[?25hdone\n",
            "  Created wheel for fire: filename=fire-0.5.0-py2.py3-none-any.whl size=116932 sha256=795d7c20bdc3a13a2edf3f6fd1dfb466e506558f00e31bab6662e15bcd285556\n",
            "  Stored in directory: /root/.cache/pip/wheels/90/d4/f7/9404e5db0116bd4d43e5666eaa3e70ab53723e1e3ea40c9a95\n",
            "Successfully built fire\n",
            "Installing collected packages: gunicorn, fire, mtcnn, retina-face, deepface\n",
            "Successfully installed deepface-0.0.79 fire-0.5.0 gunicorn-20.1.0 mtcnn-0.1.1 retina-face-0.0.13\n",
            "Directory  /root /.deepface created\n",
            "Directory  /root /.deepface/weights created\n"
          ]
        }
      ],
      "source": [
        "# load Facenet512 from deepface and fine tune it on our dataset\n",
        "!pip install deepface\n",
        "from deepface import DeepFace\n"
      ]
    },
    {
      "cell_type": "code",
      "execution_count": 8,
      "metadata": {
        "colab": {
          "base_uri": "https://localhost:8080/"
        },
        "id": "MpGCGdVdHxRC",
        "outputId": "1772562f-67fd-4096-8ea3-3c6edbdf67da"
      },
      "outputs": [],
      "source": [
        "import os\n",
        "import gdown\n",
        "from deepface.basemodels import Facenet\n",
        "from deepface.commons import functions\n",
        "\n",
        "\n",
        "def loadModel(\n",
        "    url=\"https://github.com/serengil/deepface_models/releases/download/v1.0/facenet512_weights.h5\",\n",
        "):\n",
        "\n",
        "    model = Facenet.InceptionResNetV2(dimension=512)\n",
        "\n",
        "    # -------------------------\n",
        "\n",
        "    home = functions.get_deepface_home()\n",
        "\n",
        "    if os.path.isfile(home + \"/.deepface/weights/facenet512_weights.h5\") != True:\n",
        "        print(\"facenet512_weights.h5 will be downloaded...\")\n",
        "\n",
        "        output = home + \"/.deepface/weights/facenet512_weights.h5\"\n",
        "        gdown.download(url, output, quiet=False)\n",
        "\n",
        "    # -------------------------\n",
        "\n",
        "    model.load_weights(home + \"/.deepface/weights/facenet512_weights.h5\")\n",
        "\n",
        "    # -------------------------\n",
        "\n",
        "    return model\n",
        "Face512 = loadModel()"
      ]
    },
    {
      "cell_type": "code",
      "execution_count": 15,
      "metadata": {
        "id": "9GOuflEMHxRD"
      },
      "outputs": [],
      "source": [
        "train_dir = \"temp_faces\"\n",
        "test_dir = \"temp_testfaces\"\n",
        "\n",
        "# -------------------------\n",
        "\n",
        "list_train = []\n",
        "for path in os.listdir(train_dir):\n",
        "    list_train.append(train_dir + \"/\" + path)\n",
        "\n",
        "list_test = []\n",
        "for path in os.listdir(test_dir):\n",
        "    list_test.append(test_dir + \"/\" + path)\n",
        "\n"
      ]
    },
    {
      "cell_type": "code",
      "execution_count": 16,
      "metadata": {
        "id": "woYqZc31HxRE",
        "outputId": "4c9d2dca-eb54-4e71-e888-3b523d7cb2a8"
      },
      "outputs": [
        {
          "data": {
            "text/plain": [
              "1301"
            ]
          },
          "execution_count": 16,
          "metadata": {},
          "output_type": "execute_result"
        }
      ],
      "source": [
        "class_names = []\n",
        "for file_name in list_train:\n",
        "    # print(file_name)\n",
        "    # break\n",
        "    class_name = file_name.split('/')[1].split('_')[0]\n",
        "    # print(class_name)\n",
        "    if class_name not in class_names:\n",
        "        class_names.append(class_name)\n",
        "\n",
        "# Get the number of classes\n",
        "num_classes = len(class_names)\n",
        "num_classes"
      ]
    },
    {
      "cell_type": "code",
      "execution_count": 17,
      "metadata": {
        "id": "g0lBDoXxHxRE"
      },
      "outputs": [],
      "source": [
        "# Get the class names from list_train\n",
        "class_names_train = []\n",
        "for file_name in list_train:\n",
        "    class_name = file_name.split('/')[1].split('_')[0]\n",
        "    if class_name not in class_names_train:\n",
        "        class_names_train.append(class_name)\n",
        "\n",
        "# Get the class names from list_test\n",
        "class_names_test = []\n",
        "for file_name in list_test:\n",
        "    class_name = file_name.split('/')[1].split('_')[0]\n",
        "    if class_name not in class_names_test:\n",
        "        class_names_test.append(class_name)\n",
        "\n",
        "# Remove the classes that are in list_test but not in list_train\n",
        "for class_name in class_names_test:\n",
        "    if class_name not in class_names_train:\n",
        "        list_test = [file_name for file_name in list_test if not file_name.startswith(f'{class_name}_')]\n"
      ]
    },
    {
      "cell_type": "code",
      "execution_count": null,
      "metadata": {
        "id": "InB_sadRHxRE",
        "outputId": "03cc4b37-ffc0-48f9-8415-7f557eddc6a9"
      },
      "outputs": [
        {
          "data": {
            "text/plain": [
              "'temp_faces/0_0.jpg'"
            ]
          },
          "execution_count": 16,
          "metadata": {},
          "output_type": "execute_result"
        }
      ],
      "source": [
        "list_train[0]"
      ]
    },
    {
      "cell_type": "code",
      "execution_count": 19,
      "metadata": {
        "id": "83v7YIynHxRF"
      },
      "outputs": [],
      "source": [
        "import cv2\n",
        "import numpy as np\n",
        "\n",
        "def load_images(file_list):\n",
        "    images = []\n",
        "    labels = []\n",
        "    for file_name in file_list:\n",
        "        class_name, label = file_name.split('/')[1].split('_')\n",
        "        # img_path = os.path.join(\"\", file_name)\n",
        "        img_path = file_name\n",
        "        img = cv2.imread(img_path)\n",
        "        img = cv2.cvtColor(img, cv2.COLOR_BGR2RGB)\n",
        "        img = cv2.resize(img, (160, 160))\n",
        "        images.append(img)\n",
        "        labels.append(int(class_name))\n",
        "    images = np.array(images)\n",
        "    labels = np.array(labels)\n",
        "    return images, labels\n",
        "\n",
        "train_images, train_labels = load_images(list_train)\n",
        "test_images, test_labels = load_images(list_test)"
      ]
    },
    {
      "cell_type": "code",
      "execution_count": 1,
      "metadata": {
        "colab": {
          "base_uri": "https://localhost:8080/"
        },
        "id": "QEZR9OJSIGOV",
        "outputId": "182e227f-603f-4c05-f14e-32084f6ef302"
      },
      "outputs": [
        {
          "name": "stdout",
          "output_type": "stream",
          "text": [
            "Mounted at /content/drive\n"
          ]
        }
      ],
      "source": [
        "from google.colab import drive\n",
        "drive.mount('/content/drive')"
      ]
    },
    {
      "cell_type": "code",
      "execution_count": 20,
      "metadata": {
        "id": "4jRp_np7HxRF",
        "outputId": "22e6c639-ae07-41e0-ab8c-825ccfdc0760"
      },
      "outputs": [
        {
          "name": "stdout",
          "output_type": "stream",
          "text": [
            "Number of unique labels: 1301\n"
          ]
        }
      ],
      "source": [
        "import numpy as np\n",
        "\n",
        "# Assuming your training labels are stored in a NumPy array called train_labels\n",
        "num_classes = len(np.unique(train_labels))\n",
        "print(\"Number of unique labels:\", num_classes)"
      ]
    },
    {
      "cell_type": "code",
      "execution_count": 24,
      "metadata": {
        "id": "GZHmnnukHxRF",
        "outputId": "df611a61-e5e9-46c0-d2a0-468219a7afb5"
      },
      "outputs": [
        {
          "name": "stdout",
          "output_type": "stream",
          "text": [
            "Number of unique labels: 1301\n"
          ]
        }
      ],
      "source": [
        "from sklearn.preprocessing import LabelEncoder\n",
        "\n",
        "# Assuming your training labels are stored in a NumPy array called train_labels\n",
        "label_encoder = LabelEncoder()\n",
        "train_labels_encoded = label_encoder.fit_transform(train_labels)\n",
        "num_classes = len(label_encoder.classes_)\n",
        "print(\"Number of unique labels:\", num_classes)\n",
        "\n",
        "# test_labels_encoded = label_encoder.transform(test_labels)\n",
        "\n",
        "# save the label encoder\n",
        "import pickle\n",
        "with open('label_encoder.pkl', 'wb') as le_dump_file:\n",
        "    pickle.dump(label_encoder, le_dump_file)\n",
        "    \n",
        "\n"
      ]
    },
    {
      "cell_type": "code",
      "execution_count": 23,
      "metadata": {},
      "outputs": [
        {
          "data": {
            "text/plain": [
              "array([ 0,  1,  4,  6,  7,  8, 10, 12, 13, 16])"
            ]
          },
          "execution_count": 23,
          "metadata": {},
          "output_type": "execute_result"
        }
      ],
      "source": [
        "# decode the labels from the stored encoder\n",
        "import pickle\n",
        "with open('label_encoder.pkl', 'rb') as le_load_file:\n",
        "    label_encoder = pickle.load(le_load_file)\n",
        "\n",
        "label_encoder.inverse_transform([0, 1, 2, 3, 4, 5, 6, 7, 8, 9])"
      ]
    },
    {
      "cell_type": "code",
      "execution_count": null,
      "metadata": {
        "id": "0-90p89oHxRF"
      },
      "outputs": [],
      "source": [
        "# save the train and test labels and images\n",
        "np.save('train_images.npy', train_images)\n",
        "np.save('train_labels.npy', train_labels_encoded)\n",
        "np.save('test_images.npy', test_images)\n",
        "np.save('test_labels.npy', test_labels)\n"
      ]
    },
    {
      "cell_type": "code",
      "execution_count": 6,
      "metadata": {
        "id": "oAEgn4W5HxRF"
      },
      "outputs": [],
      "source": [
        "# code to load the saved files\n",
        "import numpy as np\n",
        "train_images = np.load('/content/drive/MyDrive/deepface/train_images.npy')\n",
        "train_labels_encoded = np.load('/content/drive/MyDrive/deepface/train_labels.npy')\n",
        "test_images = np.load('/content/drive/MyDrive/deepface/test_images.npy')\n",
        "test_labels = np.load('/content/drive/MyDrive/deepface/test_labels.npy')\n"
      ]
    },
    {
      "cell_type": "code",
      "execution_count": 10,
      "metadata": {
        "id": "_zRXt8bRJA8x"
      },
      "outputs": [],
      "source": [
        "num_classes=1301"
      ]
    },
    {
      "cell_type": "code",
      "execution_count": 11,
      "metadata": {
        "colab": {
          "base_uri": "https://localhost:8080/"
        },
        "id": "XeIYmPpDHxRF",
        "outputId": "68f8b9ed-657d-447b-9b61-90668181c394"
      },
      "outputs": [],
      "source": [
        "from tensorflow.keras.models import Model\n",
        "from tensorflow.keras.layers import Input, Dense\n",
        "from tensorflow.keras.optimizers import Adam\n",
        "from tensorflow.keras.callbacks import ModelCheckpoint\n",
        "\n",
        "# Load the pre-trained FaceNet model\n",
        "facenet_model = Face512\n",
        "\n",
        "# Freeze the face512 layers\n",
        "for layer in facenet_model.layers[:-3]:\n",
        "    layer.trainable = False\n",
        "\n",
        "# Add a new dense layer for classification\n",
        "inputs = Input(shape=(160, 160, 3))\n",
        "fco = facenet_model(inputs)\n",
        "# x = Dense(700, activation='relu')(x)\n",
        "x = Dense(128, activation='relu')(fco)\n",
        "outputs = Dense(num_classes, activation='softmax')(x)\n",
        "model = Model(inputs=inputs, outputs=outputs)\n",
        "\n",
        "# Compile the model\n",
        "# model.compile(optimizer=Adam(lr=0.01), loss='sparse_categorical_crossentropy', metrics=['accuracy'])\n",
        "\n",
        "# # Train the model\n",
        "# checkpoint = ModelCheckpoint('model.h5', monitor='accuracy', save_best_only=True)\n",
        "# model.fit(train_images, train_labels_encoded, epochs=100, callbacks=[checkpoint])\n",
        "\n",
        "# # Unfreeze the top layers of the FaceNet model\n",
        "# for layer in facenet_model.layers[-10:]:\n",
        "#     layer.trainable = True\n",
        "\n",
        "# # Compile the model again\n",
        "# model.compile(optimizer=Adam(lr=0.0001), loss='sparse_categorical_crossentropy', metrics=['accuracy'])\n",
        "\n",
        "# # Train the model again\n",
        "# model.fit(train_images, train_labels_encoded, epochs=10, callbacks=[checkpoint])"
      ]
    },
    {
      "cell_type": "code",
      "execution_count": 10,
      "metadata": {
        "colab": {
          "base_uri": "https://localhost:8080/"
        },
        "id": "__6V_sCnNWs0",
        "outputId": "faf311ea-548e-419e-8230-ed6002b6e71d"
      },
      "outputs": [
        {
          "name": "stderr",
          "output_type": "stream",
          "text": [
            "WARNING:absl:`lr` is deprecated in Keras optimizer, please use `learning_rate` or use the legacy optimizer, e.g.,tf.keras.optimizers.legacy.Adam.\n"
          ]
        },
        {
          "name": "stdout",
          "output_type": "stream",
          "text": [
            "Epoch 1/40\n",
            "154/154 [==============================] - 16s 44ms/step - loss: 2.3681 - accuracy: 0.5669\n",
            "Epoch 2/40\n",
            "154/154 [==============================] - 8s 49ms/step - loss: 0.8197 - accuracy: 0.7808\n",
            "Epoch 3/40\n",
            "154/154 [==============================] - 7s 44ms/step - loss: 0.6065 - accuracy: 0.8353\n",
            "Epoch 4/40\n",
            "154/154 [==============================] - 7s 46ms/step - loss: 0.5446 - accuracy: 0.8465\n",
            "Epoch 5/40\n",
            "154/154 [==============================] - 7s 44ms/step - loss: 0.4466 - accuracy: 0.8724\n",
            "Epoch 6/40\n",
            "154/154 [==============================] - 7s 46ms/step - loss: 0.4339 - accuracy: 0.8730\n",
            "Epoch 7/40\n",
            "154/154 [==============================] - 7s 43ms/step - loss: 0.4318 - accuracy: 0.8752\n",
            "Epoch 8/40\n",
            "154/154 [==============================] - 7s 45ms/step - loss: 0.4289 - accuracy: 0.8760\n",
            "Epoch 9/40\n",
            "154/154 [==============================] - 7s 43ms/step - loss: 0.3085 - accuracy: 0.9060\n",
            "Epoch 10/40\n",
            "154/154 [==============================] - 7s 45ms/step - loss: 0.3378 - accuracy: 0.8948\n",
            "Epoch 11/40\n",
            "154/154 [==============================] - 7s 47ms/step - loss: 0.2708 - accuracy: 0.9123\n",
            "Epoch 12/40\n",
            "154/154 [==============================] - 8s 50ms/step - loss: 0.2965 - accuracy: 0.9094\n",
            "Epoch 13/40\n",
            "154/154 [==============================] - 7s 43ms/step - loss: 0.3393 - accuracy: 0.8968\n",
            "Epoch 14/40\n",
            "154/154 [==============================] - 7s 45ms/step - loss: 0.3153 - accuracy: 0.9045\n",
            "Epoch 15/40\n",
            "154/154 [==============================] - 7s 42ms/step - loss: 0.3469 - accuracy: 0.8954\n",
            "Epoch 16/40\n",
            "154/154 [==============================] - 7s 45ms/step - loss: 0.3729 - accuracy: 0.8893\n",
            "Epoch 17/40\n",
            "154/154 [==============================] - 7s 48ms/step - loss: 0.2935 - accuracy: 0.9135\n",
            "Epoch 18/40\n",
            "154/154 [==============================] - 7s 48ms/step - loss: 0.2518 - accuracy: 0.9208\n",
            "Epoch 19/40\n",
            "154/154 [==============================] - 7s 48ms/step - loss: 0.2485 - accuracy: 0.9261\n",
            "Epoch 20/40\n",
            "154/154 [==============================] - 7s 43ms/step - loss: 0.2941 - accuracy: 0.9106\n",
            "Epoch 21/40\n",
            "154/154 [==============================] - 6s 42ms/step - loss: 0.3098 - accuracy: 0.9072\n",
            "Epoch 22/40\n",
            "154/154 [==============================] - 7s 44ms/step - loss: 0.3014 - accuracy: 0.9123\n",
            "Epoch 23/40\n",
            "154/154 [==============================] - 8s 51ms/step - loss: 0.2147 - accuracy: 0.9338\n",
            "Epoch 24/40\n",
            "154/154 [==============================] - 7s 47ms/step - loss: 0.2046 - accuracy: 0.9410\n",
            "Epoch 25/40\n",
            "154/154 [==============================] - 7s 49ms/step - loss: 0.1675 - accuracy: 0.9481\n",
            "Epoch 26/40\n",
            "154/154 [==============================] - 7s 43ms/step - loss: 0.1799 - accuracy: 0.9452\n",
            "Epoch 27/40\n",
            "154/154 [==============================] - 7s 43ms/step - loss: 0.2053 - accuracy: 0.9389\n",
            "Epoch 28/40\n",
            "154/154 [==============================] - 7s 43ms/step - loss: 0.2403 - accuracy: 0.9259\n",
            "Epoch 29/40\n",
            "154/154 [==============================] - 7s 42ms/step - loss: 0.2748 - accuracy: 0.9247\n",
            "Epoch 30/40\n",
            "154/154 [==============================] - 7s 43ms/step - loss: 0.2748 - accuracy: 0.9218\n",
            "Epoch 31/40\n",
            "154/154 [==============================] - 7s 43ms/step - loss: 0.2556 - accuracy: 0.9239\n",
            "Epoch 32/40\n",
            "154/154 [==============================] - 7s 43ms/step - loss: 0.2272 - accuracy: 0.9357\n",
            "Epoch 33/40\n",
            "154/154 [==============================] - 6s 42ms/step - loss: 0.2113 - accuracy: 0.9389\n",
            "Epoch 34/40\n",
            "154/154 [==============================] - 7s 48ms/step - loss: 0.1517 - accuracy: 0.9503\n",
            "Epoch 35/40\n",
            "154/154 [==============================] - 6s 42ms/step - loss: 0.1711 - accuracy: 0.9444\n",
            "Epoch 36/40\n",
            "154/154 [==============================] - 7s 43ms/step - loss: 0.1797 - accuracy: 0.9438\n",
            "Epoch 37/40\n",
            "154/154 [==============================] - 6s 42ms/step - loss: 0.2317 - accuracy: 0.9320\n",
            "Epoch 38/40\n",
            "154/154 [==============================] - 7s 44ms/step - loss: 0.2316 - accuracy: 0.9347\n",
            "Epoch 39/40\n",
            "154/154 [==============================] - 6s 42ms/step - loss: 0.2017 - accuracy: 0.9414\n",
            "Epoch 40/40\n",
            "154/154 [==============================] - 7s 44ms/step - loss: 0.1925 - accuracy: 0.9418\n"
          ]
        },
        {
          "data": {
            "text/plain": [
              "<keras.callbacks.History at 0x7fe5823e66e0>"
            ]
          },
          "execution_count": 10,
          "metadata": {},
          "output_type": "execute_result"
        }
      ],
      "source": [
        "for layer in facenet_model.layers[-15:]:\n",
        "    layer.trainable = True\n",
        "\n",
        "# Compile the model again\n",
        "model.compile(optimizer=Adam(lr=0.001), loss='sparse_categorical_crossentropy', metrics=['accuracy'])\n",
        "\n",
        "# Train the model again\n",
        "model.fit(train_images, train_labels_encoded, epochs=40, callbacks=[checkpoint])"
      ]
    },
    {
      "cell_type": "code",
      "execution_count": 11,
      "metadata": {
        "id": "lUBXTMeJOkDi"
      },
      "outputs": [],
      "source": [
        "model.save('model1.h5')"
      ]
    },
    {
      "cell_type": "code",
      "execution_count": 3,
      "metadata": {
        "id": "X6kGqGnPO324"
      },
      "outputs": [],
      "source": [
        "!cp /content/drive/MyDrive/deepface/model1.h5 /content/"
      ]
    },
    {
      "cell_type": "code",
      "execution_count": 4,
      "metadata": {
        "colab": {
          "base_uri": "https://localhost:8080/"
        },
        "id": "mfOxzS6mzs0r",
        "outputId": "2641ed3d-7886-4fe0-8fcd-6904e946fee3"
      },
      "outputs": [
        {
          "name": "stderr",
          "output_type": "stream",
          "text": [
            "/usr/local/lib/python3.10/dist-packages/keras/layers/core/lambda_layer.py:325: UserWarning: deepface.basemodels.Facenet is not loaded, but a Lambda layer uses it. It may cause errors.\n",
            "  function = cls._parse_function_from_config(\n"
          ]
        }
      ],
      "source": [
        "from tensorflow.keras.models import load_model\n",
        "model = load_model('model1.h5')"
      ]
    },
    {
      "cell_type": "code",
      "execution_count": 5,
      "metadata": {
        "colab": {
          "base_uri": "https://localhost:8080/"
        },
        "id": "sDKFNpZE0Sai",
        "outputId": "4818fbf6-0b68-45e6-f754-45df6cba21ca"
      },
      "outputs": [
        {
          "name": "stdout",
          "output_type": "stream",
          "text": [
            "Model: \"model_1\"\n",
            "_________________________________________________________________\n",
            " Layer (type)                Output Shape              Param #   \n",
            "=================================================================\n",
            " input_4 (InputLayer)        [(None, 160, 160, 3)]     0         \n",
            "                                                                 \n",
            " inception_resnet_v1 (Functi  (None, 512)              23497424  \n",
            " onal)                                                           \n",
            "                                                                 \n",
            " dense_5 (Dense)             (None, 128)               65664     \n",
            "                                                                 \n",
            " dense_6 (Dense)             (None, 1301)              167829    \n",
            "                                                                 \n",
            "=================================================================\n",
            "Total params: 23,730,917\n",
            "Trainable params: 2,296,469\n",
            "Non-trainable params: 21,434,448\n",
            "_________________________________________________________________\n"
          ]
        }
      ],
      "source": [
        "model.summary()"
      ]
    },
    {
      "cell_type": "code",
      "execution_count": 15,
      "metadata": {
        "colab": {
          "base_uri": "https://localhost:8080/"
        },
        "id": "5iVAlqix0VYB",
        "outputId": "f52aaf3d-2793-4af3-b1e3-933ddea31150"
      },
      "outputs": [
        {
          "name": "stderr",
          "output_type": "stream",
          "text": [
            "WARNING:absl:`lr` is deprecated in Keras optimizer, please use `learning_rate` or use the legacy optimizer, e.g.,tf.keras.optimizers.legacy.Adam.\n"
          ]
        },
        {
          "name": "stdout",
          "output_type": "stream",
          "text": [
            "Epoch 1/40\n",
            "154/154 [==============================] - 29s 57ms/step - loss: 0.2334 - accuracy: 0.9334\n",
            "Epoch 2/40\n",
            "154/154 [==============================] - 8s 51ms/step - loss: 0.2141 - accuracy: 0.9381\n",
            "Epoch 3/40\n",
            "154/154 [==============================] - 7s 43ms/step - loss: 0.2290 - accuracy: 0.9353\n",
            "Epoch 4/40\n",
            "154/154 [==============================] - 7s 45ms/step - loss: 0.2082 - accuracy: 0.9355\n",
            "Epoch 5/40\n",
            "154/154 [==============================] - 8s 49ms/step - loss: 0.1755 - accuracy: 0.9448\n",
            "Epoch 6/40\n",
            "154/154 [==============================] - 8s 51ms/step - loss: 0.1771 - accuracy: 0.9507\n",
            "Epoch 7/40\n",
            "154/154 [==============================] - 7s 44ms/step - loss: 0.1911 - accuracy: 0.9481\n",
            "Epoch 8/40\n",
            "154/154 [==============================] - 7s 46ms/step - loss: 0.1682 - accuracy: 0.9495\n",
            "Epoch 9/40\n",
            "154/154 [==============================] - 8s 49ms/step - loss: 0.1663 - accuracy: 0.9540\n",
            "Epoch 10/40\n",
            "154/154 [==============================] - 7s 45ms/step - loss: 0.1549 - accuracy: 0.9499\n",
            "Epoch 11/40\n",
            "154/154 [==============================] - 7s 43ms/step - loss: 0.1841 - accuracy: 0.9489\n",
            "Epoch 12/40\n",
            "154/154 [==============================] - 9s 57ms/step - loss: 0.1385 - accuracy: 0.9568\n",
            "Epoch 13/40\n",
            "154/154 [==============================] - 8s 50ms/step - loss: 0.1479 - accuracy: 0.9573\n",
            "Epoch 14/40\n",
            "154/154 [==============================] - 8s 50ms/step - loss: 0.1427 - accuracy: 0.9615\n",
            "Epoch 15/40\n",
            "154/154 [==============================] - 7s 45ms/step - loss: 0.1761 - accuracy: 0.9542\n",
            "Epoch 16/40\n",
            "154/154 [==============================] - 7s 44ms/step - loss: 0.1899 - accuracy: 0.9475\n",
            "Epoch 17/40\n",
            "154/154 [==============================] - 7s 44ms/step - loss: 0.1808 - accuracy: 0.9473\n",
            "Epoch 18/40\n",
            "154/154 [==============================] - 7s 45ms/step - loss: 0.1470 - accuracy: 0.9532\n",
            "Epoch 19/40\n",
            "154/154 [==============================] - 7s 44ms/step - loss: 0.1527 - accuracy: 0.9550\n",
            "Epoch 20/40\n",
            "154/154 [==============================] - 7s 45ms/step - loss: 0.1444 - accuracy: 0.9540\n",
            "Epoch 21/40\n",
            "154/154 [==============================] - 8s 51ms/step - loss: 0.1293 - accuracy: 0.9632\n",
            "Epoch 22/40\n",
            "154/154 [==============================] - 8s 50ms/step - loss: 0.0992 - accuracy: 0.9685\n",
            "Epoch 23/40\n",
            "154/154 [==============================] - 7s 45ms/step - loss: 0.1110 - accuracy: 0.9623\n",
            "Epoch 24/40\n",
            "154/154 [==============================] - 7s 44ms/step - loss: 0.1259 - accuracy: 0.9634\n",
            "Epoch 25/40\n",
            "154/154 [==============================] - 7s 44ms/step - loss: 0.1608 - accuracy: 0.9552\n",
            "Epoch 26/40\n",
            "154/154 [==============================] - 7s 44ms/step - loss: 0.1372 - accuracy: 0.9587\n",
            "Epoch 27/40\n",
            "154/154 [==============================] - 8s 52ms/step - loss: 0.1237 - accuracy: 0.9689\n",
            "Epoch 28/40\n",
            "154/154 [==============================] - 7s 44ms/step - loss: 0.1505 - accuracy: 0.9566\n",
            "Epoch 29/40\n",
            "154/154 [==============================] - 7s 44ms/step - loss: 0.1401 - accuracy: 0.9566\n",
            "Epoch 30/40\n",
            "154/154 [==============================] - 7s 44ms/step - loss: 0.1404 - accuracy: 0.9587\n",
            "Epoch 31/40\n",
            "154/154 [==============================] - 7s 45ms/step - loss: 0.1496 - accuracy: 0.9548\n",
            "Epoch 32/40\n",
            "154/154 [==============================] - 7s 44ms/step - loss: 0.1475 - accuracy: 0.9558\n",
            "Epoch 33/40\n",
            "154/154 [==============================] - 7s 45ms/step - loss: 0.1313 - accuracy: 0.9603\n",
            "Epoch 34/40\n",
            "154/154 [==============================] - 7s 44ms/step - loss: 0.1394 - accuracy: 0.9617\n",
            "Epoch 35/40\n",
            "154/154 [==============================] - 7s 45ms/step - loss: 0.1279 - accuracy: 0.9630\n",
            "Epoch 36/40\n",
            "154/154 [==============================] - 7s 44ms/step - loss: 0.1283 - accuracy: 0.9619\n",
            "Epoch 37/40\n",
            "153/154 [============================>.] - ETA: 0s - loss: 0.1291 - accuracy: 0.9628Restoring model weights from the end of the best epoch: 27.\n",
            "154/154 [==============================] - 7s 46ms/step - loss: 0.1311 - accuracy: 0.9623\n",
            "Epoch 37: early stopping\n"
          ]
        },
        {
          "data": {
            "text/plain": [
              "<keras.callbacks.History at 0x7f82e17e6bf0>"
            ]
          },
          "execution_count": 15,
          "metadata": {},
          "output_type": "execute_result"
        }
      ],
      "source": [
        "from tensorflow.keras.models import Model\n",
        "from tensorflow.keras.layers import Input, Dense\n",
        "from tensorflow.keras.optimizers import Adam\n",
        "from tensorflow.keras.callbacks import ModelCheckpoint\n",
        "from tensorflow.keras.callbacks import EarlyStopping\n",
        "early_stopping = EarlyStopping(monitor='accuracy', patience=10, verbose=1, mode='max', restore_best_weights=True)\n",
        "facenet_model = Face512\n",
        "\n",
        "for layer in facenet_model.layers[-30:]:\n",
        "    layer.trainable = True\n",
        "checkpoint = ModelCheckpoint('model.h5', monitor='accuracy', save_best_only=True)\n",
        "# Compile the model again\n",
        "model.compile(optimizer=Adam(lr=0.001), loss='sparse_categorical_crossentropy', metrics=['accuracy'])\n",
        "\n",
        "# Train the model again\n",
        "model.fit(train_images, train_labels_encoded, epochs=40, callbacks=[checkpoint, early_stopping])"
      ]
    },
    {
      "cell_type": "code",
      "execution_count": 16,
      "metadata": {
        "colab": {
          "base_uri": "https://localhost:8080/"
        },
        "id": "zgec60pd1A6r",
        "outputId": "1904ec7d-0fd7-4dc3-efc3-3db10f789325"
      },
      "outputs": [
        {
          "name": "stderr",
          "output_type": "stream",
          "text": [
            "WARNING:absl:`lr` is deprecated in Keras optimizer, please use `learning_rate` or use the legacy optimizer, e.g.,tf.keras.optimizers.legacy.Adam.\n"
          ]
        },
        {
          "name": "stdout",
          "output_type": "stream",
          "text": [
            "Epoch 1/50\n",
            "154/154 [==============================] - 16s 52ms/step - loss: 0.1358 - accuracy: 0.9587\n",
            "Epoch 2/50\n",
            "154/154 [==============================] - 8s 49ms/step - loss: 0.1588 - accuracy: 0.9607\n",
            "Epoch 3/50\n",
            "154/154 [==============================] - 7s 46ms/step - loss: 0.1629 - accuracy: 0.9571\n",
            "Epoch 4/50\n",
            "154/154 [==============================] - 8s 49ms/step - loss: 0.1227 - accuracy: 0.9642\n",
            "Epoch 5/50\n",
            "154/154 [==============================] - 7s 46ms/step - loss: 0.1515 - accuracy: 0.9546\n",
            "Epoch 6/50\n",
            "154/154 [==============================] - 8s 49ms/step - loss: 0.1203 - accuracy: 0.9662\n",
            "Epoch 7/50\n",
            "154/154 [==============================] - 7s 45ms/step - loss: 0.1139 - accuracy: 0.9660\n",
            "Epoch 8/50\n",
            "154/154 [==============================] - 7s 43ms/step - loss: 0.1385 - accuracy: 0.9619\n",
            "Epoch 9/50\n",
            "154/154 [==============================] - 7s 45ms/step - loss: 0.1650 - accuracy: 0.9532\n",
            "Epoch 10/50\n",
            "154/154 [==============================] - 7s 43ms/step - loss: 0.1053 - accuracy: 0.9660\n",
            "Epoch 11/50\n",
            "154/154 [==============================] - 7s 45ms/step - loss: 0.1353 - accuracy: 0.9648\n",
            "Epoch 12/50\n",
            "154/154 [==============================] - 7s 43ms/step - loss: 0.1387 - accuracy: 0.9609\n",
            "Epoch 13/50\n",
            "154/154 [==============================] - 7s 45ms/step - loss: 0.1111 - accuracy: 0.9660\n",
            "Epoch 14/50\n",
            "154/154 [==============================] - 7s 43ms/step - loss: 0.1508 - accuracy: 0.9597\n",
            "Epoch 15/50\n",
            "154/154 [==============================] - 8s 50ms/step - loss: 0.1155 - accuracy: 0.9668\n",
            "Epoch 16/50\n",
            "154/154 [==============================] - 7s 44ms/step - loss: 0.2066 - accuracy: 0.9489\n",
            "Epoch 17/50\n",
            "154/154 [==============================] - 7s 45ms/step - loss: 0.1124 - accuracy: 0.9664\n",
            "Epoch 18/50\n",
            "154/154 [==============================] - 7s 43ms/step - loss: 0.1127 - accuracy: 0.9654\n",
            "Epoch 19/50\n",
            "154/154 [==============================] - 8s 51ms/step - loss: 0.1012 - accuracy: 0.9701\n",
            "Epoch 20/50\n",
            "154/154 [==============================] - 8s 51ms/step - loss: 0.0842 - accuracy: 0.9750\n",
            "Epoch 21/50\n",
            "154/154 [==============================] - 7s 45ms/step - loss: 0.1376 - accuracy: 0.9642\n",
            "Epoch 22/50\n",
            "154/154 [==============================] - 7s 44ms/step - loss: 0.1020 - accuracy: 0.9715\n",
            "Epoch 23/50\n",
            "154/154 [==============================] - 7s 45ms/step - loss: 0.1103 - accuracy: 0.9703\n",
            "Epoch 24/50\n",
            "154/154 [==============================] - 7s 44ms/step - loss: 0.1108 - accuracy: 0.9717\n",
            "Epoch 25/50\n",
            "154/154 [==============================] - 7s 45ms/step - loss: 0.1381 - accuracy: 0.9619\n",
            "Epoch 26/50\n",
            "154/154 [==============================] - 7s 44ms/step - loss: 0.1480 - accuracy: 0.9597\n",
            "Epoch 27/50\n",
            "154/154 [==============================] - 7s 45ms/step - loss: 0.1391 - accuracy: 0.9654\n",
            "Epoch 28/50\n",
            "154/154 [==============================] - 7s 44ms/step - loss: 0.1324 - accuracy: 0.9652\n",
            "Epoch 29/50\n",
            "154/154 [==============================] - 7s 45ms/step - loss: 0.1232 - accuracy: 0.9687\n",
            "Epoch 30/50\n",
            "153/154 [============================>.] - ETA: 0s - loss: 0.0932 - accuracy: 0.9714Restoring model weights from the end of the best epoch: 20.\n",
            "154/154 [==============================] - 7s 45ms/step - loss: 0.0934 - accuracy: 0.9713\n",
            "Epoch 30: early stopping\n"
          ]
        },
        {
          "data": {
            "text/plain": [
              "<keras.callbacks.History at 0x7f82dc2126b0>"
            ]
          },
          "execution_count": 16,
          "metadata": {},
          "output_type": "execute_result"
        }
      ],
      "source": [
        "for layer in facenet_model.layers[-60:]:\n",
        "    layer.trainable = True\n",
        "checkpoint = ModelCheckpoint('model.h5', monitor='accuracy', save_best_only=True)\n",
        "# Compile the model again\n",
        "model.compile(optimizer=Adam(lr=0.0001), loss='sparse_categorical_crossentropy', metrics=['accuracy'])\n",
        "\n",
        "# Train the model again\n",
        "model.fit(train_images, train_labels_encoded, epochs=50, callbacks=[checkpoint, early_stopping])"
      ]
    },
    {
      "cell_type": "code",
      "execution_count": 17,
      "metadata": {
        "colab": {
          "base_uri": "https://localhost:8080/"
        },
        "id": "LNB7MCEp4fvq",
        "outputId": "2803707a-b6d0-4f55-d5e9-c5a2dac1c477"
      },
      "outputs": [
        {
          "name": "stderr",
          "output_type": "stream",
          "text": [
            "WARNING:absl:`lr` is deprecated in Keras optimizer, please use `learning_rate` or use the legacy optimizer, e.g.,tf.keras.optimizers.legacy.Adam.\n"
          ]
        },
        {
          "name": "stdout",
          "output_type": "stream",
          "text": [
            "Epoch 1/50\n",
            "154/154 [==============================] - 16s 54ms/step - loss: 0.1053 - accuracy: 0.9719\n",
            "Epoch 2/50\n",
            "154/154 [==============================] - 7s 44ms/step - loss: 0.1084 - accuracy: 0.9709\n",
            "Epoch 3/50\n",
            "154/154 [==============================] - 8s 51ms/step - loss: 0.0926 - accuracy: 0.9725\n",
            "Epoch 4/50\n",
            "154/154 [==============================] - 7s 44ms/step - loss: 0.1681 - accuracy: 0.9560\n",
            "Epoch 5/50\n",
            "154/154 [==============================] - 7s 46ms/step - loss: 0.1684 - accuracy: 0.9581\n",
            "Epoch 6/50\n",
            "154/154 [==============================] - 7s 44ms/step - loss: 0.1472 - accuracy: 0.9599\n",
            "Epoch 7/50\n",
            "154/154 [==============================] - 7s 46ms/step - loss: 0.1212 - accuracy: 0.9660\n",
            "Epoch 8/50\n",
            "154/154 [==============================] - 7s 43ms/step - loss: 0.1159 - accuracy: 0.9689\n",
            "Epoch 9/50\n",
            "154/154 [==============================] - 8s 50ms/step - loss: 0.0913 - accuracy: 0.9752\n",
            "Epoch 10/50\n",
            "154/154 [==============================] - 8s 49ms/step - loss: 0.0842 - accuracy: 0.9772\n",
            "Epoch 11/50\n",
            "154/154 [==============================] - 7s 45ms/step - loss: 0.1131 - accuracy: 0.9670\n",
            "Epoch 12/50\n",
            "154/154 [==============================] - 7s 43ms/step - loss: 0.1050 - accuracy: 0.9695\n",
            "Epoch 13/50\n",
            "154/154 [==============================] - 7s 45ms/step - loss: 0.1385 - accuracy: 0.9628\n",
            "Epoch 14/50\n",
            "154/154 [==============================] - 7s 43ms/step - loss: 0.0823 - accuracy: 0.9764\n",
            "Epoch 15/50\n",
            "154/154 [==============================] - 8s 52ms/step - loss: 0.0763 - accuracy: 0.9774\n",
            "Epoch 16/50\n",
            "154/154 [==============================] - 7s 44ms/step - loss: 0.0872 - accuracy: 0.9762\n",
            "Epoch 17/50\n",
            "154/154 [==============================] - 7s 45ms/step - loss: 0.1028 - accuracy: 0.9731\n",
            "Epoch 18/50\n",
            "154/154 [==============================] - 7s 43ms/step - loss: 0.0993 - accuracy: 0.9727\n",
            "Epoch 19/50\n",
            "154/154 [==============================] - 7s 45ms/step - loss: 0.1049 - accuracy: 0.9689\n",
            "Epoch 20/50\n",
            "154/154 [==============================] - 7s 44ms/step - loss: 0.1198 - accuracy: 0.9695\n",
            "Epoch 21/50\n",
            "154/154 [==============================] - 7s 46ms/step - loss: 0.1134 - accuracy: 0.9693\n",
            "Epoch 22/50\n",
            "154/154 [==============================] - 7s 43ms/step - loss: 0.1556 - accuracy: 0.9585\n",
            "Epoch 23/50\n",
            "154/154 [==============================] - 7s 45ms/step - loss: 0.0916 - accuracy: 0.9733\n",
            "Epoch 24/50\n",
            "154/154 [==============================] - 7s 49ms/step - loss: 0.0770 - accuracy: 0.9776\n",
            "Epoch 25/50\n",
            "154/154 [==============================] - 7s 45ms/step - loss: 0.0960 - accuracy: 0.9756\n",
            "Epoch 26/50\n",
            "154/154 [==============================] - 7s 43ms/step - loss: 0.1255 - accuracy: 0.9664\n",
            "Epoch 27/50\n",
            "154/154 [==============================] - 7s 45ms/step - loss: 0.1098 - accuracy: 0.9691\n",
            "Epoch 28/50\n",
            "154/154 [==============================] - 7s 43ms/step - loss: 0.1104 - accuracy: 0.9699\n",
            "Epoch 29/50\n",
            "154/154 [==============================] - 7s 46ms/step - loss: 0.0810 - accuracy: 0.9758\n",
            "Epoch 30/50\n",
            "154/154 [==============================] - 7s 43ms/step - loss: 0.0973 - accuracy: 0.9731\n",
            "Epoch 31/50\n",
            "154/154 [==============================] - 7s 45ms/step - loss: 0.1065 - accuracy: 0.9725\n",
            "Epoch 32/50\n",
            "154/154 [==============================] - 8s 49ms/step - loss: 0.0808 - accuracy: 0.9782\n",
            "Epoch 33/50\n",
            "154/154 [==============================] - 7s 45ms/step - loss: 0.0997 - accuracy: 0.9744\n",
            "Epoch 34/50\n",
            "154/154 [==============================] - 7s 43ms/step - loss: 0.0890 - accuracy: 0.9760\n",
            "Epoch 35/50\n",
            "154/154 [==============================] - 7s 46ms/step - loss: 0.0802 - accuracy: 0.9778\n",
            "Epoch 36/50\n",
            "154/154 [==============================] - 7s 43ms/step - loss: 0.0818 - accuracy: 0.9746\n",
            "Epoch 37/50\n",
            "154/154 [==============================] - 7s 45ms/step - loss: 0.1319 - accuracy: 0.9668\n",
            "Epoch 38/50\n",
            "154/154 [==============================] - 7s 44ms/step - loss: 0.1375 - accuracy: 0.9680\n",
            "Epoch 39/50\n",
            "154/154 [==============================] - 7s 45ms/step - loss: 0.1098 - accuracy: 0.9691\n",
            "Epoch 40/50\n",
            "154/154 [==============================] - 7s 49ms/step - loss: 0.0676 - accuracy: 0.9794\n",
            "Epoch 41/50\n",
            "154/154 [==============================] - 7s 45ms/step - loss: 0.0997 - accuracy: 0.9756\n",
            "Epoch 42/50\n",
            "154/154 [==============================] - 7s 43ms/step - loss: 0.1009 - accuracy: 0.9752\n",
            "Epoch 43/50\n",
            "154/154 [==============================] - 7s 45ms/step - loss: 0.0795 - accuracy: 0.9782\n",
            "Epoch 44/50\n",
            "154/154 [==============================] - 7s 43ms/step - loss: 0.1132 - accuracy: 0.9711\n",
            "Epoch 45/50\n",
            "154/154 [==============================] - 7s 45ms/step - loss: 0.0906 - accuracy: 0.9739\n",
            "Epoch 46/50\n",
            "154/154 [==============================] - 7s 43ms/step - loss: 0.1032 - accuracy: 0.9742\n",
            "Epoch 47/50\n",
            "154/154 [==============================] - 7s 45ms/step - loss: 0.0860 - accuracy: 0.9776\n",
            "Epoch 48/50\n",
            "154/154 [==============================] - 7s 43ms/step - loss: 0.0903 - accuracy: 0.9764\n",
            "Epoch 49/50\n",
            "154/154 [==============================] - 8s 50ms/step - loss: 0.0702 - accuracy: 0.9807\n",
            "Epoch 50/50\n",
            "154/154 [==============================] - 7s 43ms/step - loss: 0.0757 - accuracy: 0.9786\n"
          ]
        },
        {
          "data": {
            "text/plain": [
              "<keras.callbacks.History at 0x7f82ac05d3f0>"
            ]
          },
          "execution_count": 17,
          "metadata": {},
          "output_type": "execute_result"
        }
      ],
      "source": [
        "for layer in facenet_model.layers[-100:]:\n",
        "    layer.trainable = True\n",
        "checkpoint = ModelCheckpoint('model.h5', monitor='accuracy', save_best_only=True)\n",
        "# Compile the model again\n",
        "model.compile(optimizer=Adam(lr=0.0001), loss='sparse_categorical_crossentropy', metrics=['accuracy'])\n",
        "\n",
        "# Train the model again\n",
        "model.fit(train_images, train_labels_encoded, epochs=50, callbacks=[checkpoint, early_stopping])"
      ]
    },
    {
      "cell_type": "code",
      "execution_count": 18,
      "metadata": {
        "colab": {
          "base_uri": "https://localhost:8080/",
          "height": 1000
        },
        "id": "BQ4Rr7mb4gTE",
        "outputId": "cfe1fc2b-e14f-4b6e-efec-2d8f7302298c"
      },
      "outputs": [
        {
          "name": "stdout",
          "output_type": "stream",
          "text": [
            "Looking in indexes: https://pypi.org/simple, https://us-python.pkg.dev/colab-wheels/public/simple/\n",
            "Collecting tensorflowjs\n",
            "  Downloading tensorflowjs-4.8.0-py3-none-any.whl (85 kB)\n",
            "\u001b[2K     \u001b[90m━━━━━━━━━━━━━━━━━━━━━━━━━━━━━━━━━━━━━━━━\u001b[0m \u001b[32m85.1/85.1 kB\u001b[0m \u001b[31m9.6 MB/s\u001b[0m eta \u001b[36m0:00:00\u001b[0m\n",
            "\u001b[?25hCollecting flax<0.6.3,>=0.6.2 (from tensorflowjs)\n",
            "  Downloading flax-0.6.2-py3-none-any.whl (189 kB)\n",
            "\u001b[2K     \u001b[90m━━━━━━━━━━━━━━━━━━━━━━━━━━━━━━━━━━━━━━\u001b[0m \u001b[32m189.9/189.9 kB\u001b[0m \u001b[31m24.2 MB/s\u001b[0m eta \u001b[36m0:00:00\u001b[0m\n",
            "\u001b[?25hRequirement already satisfied: importlib_resources>=5.9.0 in /usr/local/lib/python3.10/dist-packages (from tensorflowjs) (5.12.0)\n",
            "Requirement already satisfied: jax>=0.3.16 in /usr/local/lib/python3.10/dist-packages (from tensorflowjs) (0.4.10)\n",
            "Requirement already satisfied: tensorflow<3,>=2.12.0 in /usr/local/lib/python3.10/dist-packages (from tensorflowjs) (2.12.0)\n",
            "Collecting tensorflow-decision-forests>=1.3.0 (from tensorflowjs)\n",
            "  Downloading tensorflow_decision_forests-1.3.0-cp310-cp310-manylinux_2_17_x86_64.manylinux2014_x86_64.whl (16.4 MB)\n",
            "\u001b[2K     \u001b[90m━━━━━━━━━━━━━━━━━━━━━━━━━━━━━━━━━━━━━━━━\u001b[0m \u001b[32m16.4/16.4 MB\u001b[0m \u001b[31m49.7 MB/s\u001b[0m eta \u001b[36m0:00:00\u001b[0m\n",
            "\u001b[?25hRequirement already satisfied: six<2,>=1.12.0 in /usr/local/lib/python3.10/dist-packages (from tensorflowjs) (1.16.0)\n",
            "Requirement already satisfied: tensorflow-hub>=0.13.0 in /usr/local/lib/python3.10/dist-packages (from tensorflowjs) (0.13.0)\n",
            "Collecting packaging~=20.9 (from tensorflowjs)\n",
            "  Downloading packaging-20.9-py2.py3-none-any.whl (40 kB)\n",
            "\u001b[2K     \u001b[90m━━━━━━━━━━━━━━━━━━━━━━━━━━━━━━━━━━━━━━━━\u001b[0m \u001b[32m40.9/40.9 kB\u001b[0m \u001b[31m5.5 MB/s\u001b[0m eta \u001b[36m0:00:00\u001b[0m\n",
            "\u001b[?25hRequirement already satisfied: numpy>=1.12 in /usr/local/lib/python3.10/dist-packages (from flax<0.6.3,>=0.6.2->tensorflowjs) (1.22.4)\n",
            "Requirement already satisfied: matplotlib in /usr/local/lib/python3.10/dist-packages (from flax<0.6.3,>=0.6.2->tensorflowjs) (3.7.1)\n",
            "Requirement already satisfied: msgpack in /usr/local/lib/python3.10/dist-packages (from flax<0.6.3,>=0.6.2->tensorflowjs) (1.0.5)\n",
            "Requirement already satisfied: optax in /usr/local/lib/python3.10/dist-packages (from flax<0.6.3,>=0.6.2->tensorflowjs) (0.1.5)\n",
            "Requirement already satisfied: tensorstore in /usr/local/lib/python3.10/dist-packages (from flax<0.6.3,>=0.6.2->tensorflowjs) (0.1.38)\n",
            "Requirement already satisfied: rich>=11.1 in /usr/local/lib/python3.10/dist-packages (from flax<0.6.3,>=0.6.2->tensorflowjs) (13.4.2)\n",
            "Requirement already satisfied: typing-extensions>=4.1.1 in /usr/local/lib/python3.10/dist-packages (from flax<0.6.3,>=0.6.2->tensorflowjs) (4.6.3)\n",
            "Requirement already satisfied: PyYAML>=5.4.1 in /usr/local/lib/python3.10/dist-packages (from flax<0.6.3,>=0.6.2->tensorflowjs) (6.0)\n",
            "Requirement already satisfied: ml-dtypes>=0.1.0 in /usr/local/lib/python3.10/dist-packages (from jax>=0.3.16->tensorflowjs) (0.2.0)\n",
            "Requirement already satisfied: opt-einsum in /usr/local/lib/python3.10/dist-packages (from jax>=0.3.16->tensorflowjs) (3.3.0)\n",
            "Requirement already satisfied: scipy>=1.7 in /usr/local/lib/python3.10/dist-packages (from jax>=0.3.16->tensorflowjs) (1.10.1)\n",
            "Requirement already satisfied: pyparsing>=2.0.2 in /usr/local/lib/python3.10/dist-packages (from packaging~=20.9->tensorflowjs) (3.1.0)\n",
            "Requirement already satisfied: absl-py>=1.0.0 in /usr/local/lib/python3.10/dist-packages (from tensorflow<3,>=2.12.0->tensorflowjs) (1.4.0)\n",
            "Requirement already satisfied: astunparse>=1.6.0 in /usr/local/lib/python3.10/dist-packages (from tensorflow<3,>=2.12.0->tensorflowjs) (1.6.3)\n",
            "Requirement already satisfied: flatbuffers>=2.0 in /usr/local/lib/python3.10/dist-packages (from tensorflow<3,>=2.12.0->tensorflowjs) (23.5.26)\n",
            "Requirement already satisfied: gast<=0.4.0,>=0.2.1 in /usr/local/lib/python3.10/dist-packages (from tensorflow<3,>=2.12.0->tensorflowjs) (0.4.0)\n",
            "Requirement already satisfied: google-pasta>=0.1.1 in /usr/local/lib/python3.10/dist-packages (from tensorflow<3,>=2.12.0->tensorflowjs) (0.2.0)\n",
            "Requirement already satisfied: grpcio<2.0,>=1.24.3 in /usr/local/lib/python3.10/dist-packages (from tensorflow<3,>=2.12.0->tensorflowjs) (1.54.2)\n",
            "Requirement already satisfied: h5py>=2.9.0 in /usr/local/lib/python3.10/dist-packages (from tensorflow<3,>=2.12.0->tensorflowjs) (3.8.0)\n",
            "Requirement already satisfied: keras<2.13,>=2.12.0 in /usr/local/lib/python3.10/dist-packages (from tensorflow<3,>=2.12.0->tensorflowjs) (2.12.0)\n",
            "Requirement already satisfied: libclang>=13.0.0 in /usr/local/lib/python3.10/dist-packages (from tensorflow<3,>=2.12.0->tensorflowjs) (16.0.0)\n",
            "Requirement already satisfied: protobuf!=4.21.0,!=4.21.1,!=4.21.2,!=4.21.3,!=4.21.4,!=4.21.5,<5.0.0dev,>=3.20.3 in /usr/local/lib/python3.10/dist-packages (from tensorflow<3,>=2.12.0->tensorflowjs) (3.20.3)\n",
            "Requirement already satisfied: setuptools in /usr/local/lib/python3.10/dist-packages (from tensorflow<3,>=2.12.0->tensorflowjs) (67.7.2)\n",
            "Requirement already satisfied: tensorboard<2.13,>=2.12 in /usr/local/lib/python3.10/dist-packages (from tensorflow<3,>=2.12.0->tensorflowjs) (2.12.3)\n",
            "Requirement already satisfied: tensorflow-estimator<2.13,>=2.12.0 in /usr/local/lib/python3.10/dist-packages (from tensorflow<3,>=2.12.0->tensorflowjs) (2.12.0)\n",
            "Requirement already satisfied: termcolor>=1.1.0 in /usr/local/lib/python3.10/dist-packages (from tensorflow<3,>=2.12.0->tensorflowjs) (2.3.0)\n",
            "Requirement already satisfied: wrapt<1.15,>=1.11.0 in /usr/local/lib/python3.10/dist-packages (from tensorflow<3,>=2.12.0->tensorflowjs) (1.14.1)\n",
            "Requirement already satisfied: tensorflow-io-gcs-filesystem>=0.23.1 in /usr/local/lib/python3.10/dist-packages (from tensorflow<3,>=2.12.0->tensorflowjs) (0.32.0)\n",
            "Requirement already satisfied: pandas in /usr/local/lib/python3.10/dist-packages (from tensorflow-decision-forests>=1.3.0->tensorflowjs) (1.5.3)\n",
            "Requirement already satisfied: wheel in /usr/local/lib/python3.10/dist-packages (from tensorflow-decision-forests>=1.3.0->tensorflowjs) (0.40.0)\n",
            "Collecting wurlitzer (from tensorflow-decision-forests>=1.3.0->tensorflowjs)\n",
            "  Downloading wurlitzer-3.0.3-py3-none-any.whl (7.3 kB)\n",
            "Requirement already satisfied: markdown-it-py>=2.2.0 in /usr/local/lib/python3.10/dist-packages (from rich>=11.1->flax<0.6.3,>=0.6.2->tensorflowjs) (3.0.0)\n",
            "Requirement already satisfied: pygments<3.0.0,>=2.13.0 in /usr/local/lib/python3.10/dist-packages (from rich>=11.1->flax<0.6.3,>=0.6.2->tensorflowjs) (2.14.0)\n",
            "Requirement already satisfied: google-auth<3,>=1.6.3 in /usr/local/lib/python3.10/dist-packages (from tensorboard<2.13,>=2.12->tensorflow<3,>=2.12.0->tensorflowjs) (2.17.3)\n",
            "Requirement already satisfied: google-auth-oauthlib<1.1,>=0.5 in /usr/local/lib/python3.10/dist-packages (from tensorboard<2.13,>=2.12->tensorflow<3,>=2.12.0->tensorflowjs) (1.0.0)\n",
            "Requirement already satisfied: markdown>=2.6.8 in /usr/local/lib/python3.10/dist-packages (from tensorboard<2.13,>=2.12->tensorflow<3,>=2.12.0->tensorflowjs) (3.4.3)\n",
            "Requirement already satisfied: requests<3,>=2.21.0 in /usr/local/lib/python3.10/dist-packages (from tensorboard<2.13,>=2.12->tensorflow<3,>=2.12.0->tensorflowjs) (2.27.1)\n",
            "Requirement already satisfied: tensorboard-data-server<0.8.0,>=0.7.0 in /usr/local/lib/python3.10/dist-packages (from tensorboard<2.13,>=2.12->tensorflow<3,>=2.12.0->tensorflowjs) (0.7.1)\n",
            "Requirement already satisfied: werkzeug>=1.0.1 in /usr/local/lib/python3.10/dist-packages (from tensorboard<2.13,>=2.12->tensorflow<3,>=2.12.0->tensorflowjs) (2.3.6)\n",
            "Requirement already satisfied: contourpy>=1.0.1 in /usr/local/lib/python3.10/dist-packages (from matplotlib->flax<0.6.3,>=0.6.2->tensorflowjs) (1.1.0)\n",
            "Requirement already satisfied: cycler>=0.10 in /usr/local/lib/python3.10/dist-packages (from matplotlib->flax<0.6.3,>=0.6.2->tensorflowjs) (0.11.0)\n",
            "Requirement already satisfied: fonttools>=4.22.0 in /usr/local/lib/python3.10/dist-packages (from matplotlib->flax<0.6.3,>=0.6.2->tensorflowjs) (4.40.0)\n",
            "Requirement already satisfied: kiwisolver>=1.0.1 in /usr/local/lib/python3.10/dist-packages (from matplotlib->flax<0.6.3,>=0.6.2->tensorflowjs) (1.4.4)\n",
            "Requirement already satisfied: pillow>=6.2.0 in /usr/local/lib/python3.10/dist-packages (from matplotlib->flax<0.6.3,>=0.6.2->tensorflowjs) (8.4.0)\n",
            "Requirement already satisfied: python-dateutil>=2.7 in /usr/local/lib/python3.10/dist-packages (from matplotlib->flax<0.6.3,>=0.6.2->tensorflowjs) (2.8.2)\n",
            "Requirement already satisfied: chex>=0.1.5 in /usr/local/lib/python3.10/dist-packages (from optax->flax<0.6.3,>=0.6.2->tensorflowjs) (0.1.7)\n",
            "Requirement already satisfied: jaxlib>=0.1.37 in /usr/local/lib/python3.10/dist-packages (from optax->flax<0.6.3,>=0.6.2->tensorflowjs) (0.4.10+cuda11.cudnn86)\n",
            "Requirement already satisfied: pytz>=2020.1 in /usr/local/lib/python3.10/dist-packages (from pandas->tensorflow-decision-forests>=1.3.0->tensorflowjs) (2022.7.1)\n",
            "Requirement already satisfied: dm-tree>=0.1.5 in /usr/local/lib/python3.10/dist-packages (from chex>=0.1.5->optax->flax<0.6.3,>=0.6.2->tensorflowjs) (0.1.8)\n",
            "Requirement already satisfied: toolz>=0.9.0 in /usr/local/lib/python3.10/dist-packages (from chex>=0.1.5->optax->flax<0.6.3,>=0.6.2->tensorflowjs) (0.12.0)\n",
            "Requirement already satisfied: cachetools<6.0,>=2.0.0 in /usr/local/lib/python3.10/dist-packages (from google-auth<3,>=1.6.3->tensorboard<2.13,>=2.12->tensorflow<3,>=2.12.0->tensorflowjs) (5.3.1)\n",
            "Requirement already satisfied: pyasn1-modules>=0.2.1 in /usr/local/lib/python3.10/dist-packages (from google-auth<3,>=1.6.3->tensorboard<2.13,>=2.12->tensorflow<3,>=2.12.0->tensorflowjs) (0.3.0)\n",
            "Requirement already satisfied: rsa<5,>=3.1.4 in /usr/local/lib/python3.10/dist-packages (from google-auth<3,>=1.6.3->tensorboard<2.13,>=2.12->tensorflow<3,>=2.12.0->tensorflowjs) (4.9)\n",
            "Requirement already satisfied: requests-oauthlib>=0.7.0 in /usr/local/lib/python3.10/dist-packages (from google-auth-oauthlib<1.1,>=0.5->tensorboard<2.13,>=2.12->tensorflow<3,>=2.12.0->tensorflowjs) (1.3.1)\n",
            "Requirement already satisfied: mdurl~=0.1 in /usr/local/lib/python3.10/dist-packages (from markdown-it-py>=2.2.0->rich>=11.1->flax<0.6.3,>=0.6.2->tensorflowjs) (0.1.2)\n",
            "Requirement already satisfied: urllib3<1.27,>=1.21.1 in /usr/local/lib/python3.10/dist-packages (from requests<3,>=2.21.0->tensorboard<2.13,>=2.12->tensorflow<3,>=2.12.0->tensorflowjs) (1.26.16)\n",
            "Requirement already satisfied: certifi>=2017.4.17 in /usr/local/lib/python3.10/dist-packages (from requests<3,>=2.21.0->tensorboard<2.13,>=2.12->tensorflow<3,>=2.12.0->tensorflowjs) (2023.5.7)\n",
            "Requirement already satisfied: charset-normalizer~=2.0.0 in /usr/local/lib/python3.10/dist-packages (from requests<3,>=2.21.0->tensorboard<2.13,>=2.12->tensorflow<3,>=2.12.0->tensorflowjs) (2.0.12)\n",
            "Requirement already satisfied: idna<4,>=2.5 in /usr/local/lib/python3.10/dist-packages (from requests<3,>=2.21.0->tensorboard<2.13,>=2.12->tensorflow<3,>=2.12.0->tensorflowjs) (3.4)\n",
            "Requirement already satisfied: MarkupSafe>=2.1.1 in /usr/local/lib/python3.10/dist-packages (from werkzeug>=1.0.1->tensorboard<2.13,>=2.12->tensorflow<3,>=2.12.0->tensorflowjs) (2.1.3)\n",
            "Requirement already satisfied: pyasn1<0.6.0,>=0.4.6 in /usr/local/lib/python3.10/dist-packages (from pyasn1-modules>=0.2.1->google-auth<3,>=1.6.3->tensorboard<2.13,>=2.12->tensorflow<3,>=2.12.0->tensorflowjs) (0.5.0)\n",
            "Requirement already satisfied: oauthlib>=3.0.0 in /usr/local/lib/python3.10/dist-packages (from requests-oauthlib>=0.7.0->google-auth-oauthlib<1.1,>=0.5->tensorboard<2.13,>=2.12->tensorflow<3,>=2.12.0->tensorflowjs) (3.2.2)\n",
            "Installing collected packages: wurlitzer, packaging, flax, tensorflow-decision-forests, tensorflowjs\n",
            "  Attempting uninstall: packaging\n",
            "    Found existing installation: packaging 23.1\n",
            "    Uninstalling packaging-23.1:\n",
            "      Successfully uninstalled packaging-23.1\n",
            "  Attempting uninstall: flax\n",
            "    Found existing installation: flax 0.6.10\n",
            "    Uninstalling flax-0.6.10:\n",
            "      Successfully uninstalled flax-0.6.10\n",
            "\u001b[31mERROR: pip's dependency resolver does not currently take into account all the packages that are installed. This behaviour is the source of the following dependency conflicts.\n",
            "statsmodels 0.13.5 requires packaging>=21.3, but you have packaging 20.9 which is incompatible.\n",
            "xarray 2022.12.0 requires packaging>=21.3, but you have packaging 20.9 which is incompatible.\u001b[0m\u001b[31m\n",
            "\u001b[0mSuccessfully installed flax-0.6.2 packaging-20.9 tensorflow-decision-forests-1.3.0 tensorflowjs-4.8.0 wurlitzer-3.0.3\n"
          ]
        },
        {
          "data": {
            "application/vnd.colab-display-data+json": {
              "pip_warning": {
                "packages": [
                  "packaging"
                ]
              }
            }
          },
          "metadata": {},
          "output_type": "display_data"
        }
      ],
      "source": [
        "# Freeze the model\n",
        "!pip install tensorflowjs\n",
        "model.trainable = False\n",
        "\n",
        "# Convert the model to TFJS\n",
        "import tensorflowjs as tfjs\n",
        "tfjs.converters.save_keras_model(model, 'tfjs_model')"
      ]
    },
    {
      "cell_type": "code",
      "execution_count": 20,
      "metadata": {
        "id": "LFfVyubc6ree"
      },
      "outputs": [],
      "source": [
        "!cp -r /content/tfjs_model /content/drive/MyDrive/deepface/"
      ]
    },
    {
      "cell_type": "code",
      "execution_count": 21,
      "metadata": {
        "id": "q0CVsLxm7SNh"
      },
      "outputs": [],
      "source": [
        "model.save('model1.h5')"
      ]
    },
    {
      "cell_type": "code",
      "execution_count": 22,
      "metadata": {
        "id": "SOmWKk8I7Glu"
      },
      "outputs": [],
      "source": [
        "!cp /content/model1.h5 /content/drive/MyDrive/deepface/"
      ]
    },
    {
      "cell_type": "code",
      "execution_count": 2,
      "metadata": {},
      "outputs": [],
      "source": [
        "from tensorflow.keras.models import load_model\n",
        "\n",
        "model = load_model('model1.h5', compile=False)\n"
      ]
    },
    {
      "cell_type": "code",
      "execution_count": 3,
      "metadata": {},
      "outputs": [
        {
          "name": "stdout",
          "output_type": "stream",
          "text": [
            "Model: \"model_1\"\n",
            "_________________________________________________________________\n",
            " Layer (type)                Output Shape              Param #   \n",
            "=================================================================\n",
            " input_4 (InputLayer)        [(None, 160, 160, 3)]     0         \n",
            "                                                                 \n",
            " inception_resnet_v1 (Functi  (None, 512)              23497424  \n",
            " onal)                                                           \n",
            "                                                                 \n",
            " dense_5 (Dense)             (None, 128)               65664     \n",
            "                                                                 \n",
            " dense_6 (Dense)             (None, 1301)              167829    \n",
            "                                                                 \n",
            "=================================================================\n",
            "Total params: 23,730,917\n",
            "Trainable params: 0\n",
            "Non-trainable params: 23,730,917\n",
            "_________________________________________________________________\n"
          ]
        }
      ],
      "source": [
        "model.summary()\n"
      ]
    },
    {
      "cell_type": "code",
      "execution_count": 12,
      "metadata": {},
      "outputs": [
        {
          "name": "stdout",
          "output_type": "stream",
          "text": [
            "Model: \"model_3\"\n",
            "_________________________________________________________________\n",
            " Layer (type)                Output Shape              Param #   \n",
            "=================================================================\n",
            " input_3 (InputLayer)        [(None, 160, 160, 3)]     0         \n",
            "                                                                 \n",
            " inception_resnet_v1 (Functi  (None, 512)              23497424  \n",
            " onal)                                                           \n",
            "                                                                 \n",
            "=================================================================\n",
            "Total params: 23,497,424\n",
            "Trainable params: 918,016\n",
            "Non-trainable params: 22,579,408\n",
            "_________________________________________________________________\n"
          ]
        }
      ],
      "source": [
        "from tensorflow.keras.models import Model\n",
        "\n",
        "FeatureExtractor = Model(inputs=model.input, outputs=fco)\n",
        "\n",
        "FeatureExtractor.summary()\n"
      ]
    },
    {
      "cell_type": "code",
      "execution_count": 13,
      "metadata": {},
      "outputs": [
        {
          "name": "stdout",
          "output_type": "stream",
          "text": [
            "Model: \"model_4\"\n",
            "_________________________________________________________________\n",
            " Layer (type)                Output Shape              Param #   \n",
            "=================================================================\n",
            " input_4 (InputLayer)        [(None, 512)]             0         \n",
            "                                                                 \n",
            " dense_1 (Dense)             (None, 128)               65664     \n",
            "                                                                 \n",
            " dense_2 (Dense)             (None, 1301)              167829    \n",
            "                                                                 \n",
            "=================================================================\n",
            "Total params: 233,493\n",
            "Trainable params: 233,493\n",
            "Non-trainable params: 0\n",
            "_________________________________________________________________\n"
          ]
        }
      ],
      "source": [
        "Classifier = Model(inputs=fco, outputs=outputs)\n",
        "\n",
        "Classifier.summary()"
      ]
    },
    {
      "cell_type": "code",
      "execution_count": 14,
      "metadata": {},
      "outputs": [
        {
          "name": "stdout",
          "output_type": "stream",
          "text": [
            "WARNING:tensorflow:Compiled the loaded model, but the compiled metrics have yet to be built. `model.compile_metrics` will be empty until you train or evaluate the model.\n",
            "WARNING:tensorflow:Compiled the loaded model, but the compiled metrics have yet to be built. `model.compile_metrics` will be empty until you train or evaluate the model.\n"
          ]
        }
      ],
      "source": [
        "FeatureExtractor.save('FeatureExtractor.h5')    \n",
        "\n",
        "Classifier.save('Classifier.h5') \n",
        "\n",
        " "
      ]
    }
  ],
  "metadata": {
    "accelerator": "GPU",
    "colab": {
      "gpuType": "T4",
      "provenance": []
    },
    "kernelspec": {
      "display_name": "Python 3",
      "name": "python3"
    },
    "language_info": {
      "codemirror_mode": {
        "name": "ipython",
        "version": 3
      },
      "file_extension": ".py",
      "mimetype": "text/x-python",
      "name": "python",
      "nbconvert_exporter": "python",
      "pygments_lexer": "ipython3",
      "version": "3.10.5"
    },
    "orig_nbformat": 4
  },
  "nbformat": 4,
  "nbformat_minor": 0
}
