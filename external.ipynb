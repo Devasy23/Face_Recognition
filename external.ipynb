{
 "cells": [
  {
   "cell_type": "code",
   "execution_count": 1,
   "metadata": {},
   "outputs": [
    {
     "ename": "KeyboardInterrupt",
     "evalue": "",
     "output_type": "error",
     "traceback": [
      "\u001b[1;31m---------------------------------------------------------------------------\u001b[0m",
      "\u001b[1;31mKeyboardInterrupt\u001b[0m                         Traceback (most recent call last)",
      "\u001b[1;32mc:\\Users\\Owner\\Documents\\GitHub\\Face_Recognition\\external.ipynb Cell 1\u001b[0m in \u001b[0;36m<cell line: 12>\u001b[1;34m()\u001b[0m\n\u001b[0;32m     <a href='vscode-notebook-cell:/c%3A/Users/Owner/Documents/GitHub/Face_Recognition/external.ipynb#W0sZmlsZQ%3D%3D?line=10'>11</a>\u001b[0m cap\u001b[39m=\u001b[39mcv2\u001b[39m.\u001b[39mVideoCapture(\u001b[39m0\u001b[39m)\n\u001b[0;32m     <a href='vscode-notebook-cell:/c%3A/Users/Owner/Documents/GitHub/Face_Recognition/external.ipynb#W0sZmlsZQ%3D%3D?line=11'>12</a>\u001b[0m \u001b[39mwhile\u001b[39;00m \u001b[39mTrue\u001b[39;00m:\n\u001b[0;32m     <a href='vscode-notebook-cell:/c%3A/Users/Owner/Documents/GitHub/Face_Recognition/external.ipynb#W0sZmlsZQ%3D%3D?line=12'>13</a>\u001b[0m     \u001b[39m# try to do cannay edge detection using opencv\u001b[39;00m\n\u001b[1;32m---> <a href='vscode-notebook-cell:/c%3A/Users/Owner/Documents/GitHub/Face_Recognition/external.ipynb#W0sZmlsZQ%3D%3D?line=13'>14</a>\u001b[0m     ret,frame\u001b[39m=\u001b[39mcap\u001b[39m.\u001b[39;49mread()\n\u001b[0;32m     <a href='vscode-notebook-cell:/c%3A/Users/Owner/Documents/GitHub/Face_Recognition/external.ipynb#W0sZmlsZQ%3D%3D?line=14'>15</a>\u001b[0m     frame\u001b[39m=\u001b[39mcv2\u001b[39m.\u001b[39mcvtColor(cv2\u001b[39m.\u001b[39mCanny(frame, \u001b[39m100\u001b[39m, \u001b[39m200\u001b[39m), cv2\u001b[39m.\u001b[39mCOLOR_GRAY2BGR)\n\u001b[0;32m     <a href='vscode-notebook-cell:/c%3A/Users/Owner/Documents/GitHub/Face_Recognition/external.ipynb#W0sZmlsZQ%3D%3D?line=15'>16</a>\u001b[0m     cv2\u001b[39m.\u001b[39mimshow(\u001b[39m\"\u001b[39m\u001b[39mframe\u001b[39m\u001b[39m\"\u001b[39m,frame)\n",
      "\u001b[1;31mKeyboardInterrupt\u001b[0m: "
     ]
    },
    {
     "ename": "",
     "evalue": "",
     "output_type": "error",
     "traceback": [
      "\u001b[1;31mThe Kernel crashed while executing code in the the current cell or a previous cell. Please review the code in the cell(s) to identify a possible cause of the failure. Click <a href='https://aka.ms/vscodeJupyterKernelCrash'>here</a> for more info. View Jupyter <a href='command:jupyter.viewOutput'>log</a> for further details."
     ]
    }
   ],
   "source": [
    "import cv2\n",
    "import av\n",
    "\n",
    "def callback(frame):\n",
    "    img = frame.to_ndarray(format=\"bgr24\")\n",
    "\n",
    "    img = cv2.cvtColor(cv2.Canny(img, 100, 200), cv2.COLOR_GRAY2BGR)\n",
    "    \n",
    "    # images.append(img)\n",
    "    return av.VideoFrame.from_ndarray(img, format=\"bgr24\")\n",
    "\n",
    "cap=cv2.VideoCapture(0)\n",
    "while True:\n",
    "    # try to do cannay edge detection using opencv\n",
    "    ret,frame=cap.read()\n",
    "    frame=cv2.cvtColor(cv2.Canny(frame, 100, 200), cv2.COLOR_GRAY2BGR)\n",
    "    cv2.imshow(\"frame\",frame)\n",
    "    if cv2.waitKey(1) & 0xFF == ord('q'):\n",
    "        break\n",
    "cap.release()\n",
    "cv2.destroyAllWindows()\n",
    " \n"
   ]
  },
  {
   "cell_type": "code",
   "execution_count": null,
   "metadata": {},
   "outputs": [],
   "source": [
    "import numpy as np\n",
    "from sklearn.decomposition import PCA\n",
    "from sklearn.svm import SVC\n",
    "from sklearn.pipeline import Pipeline\n",
    "\n",
    "# Load the training data\n",
    "X_train = []  # images of multiple people\n",
    "y_train = []  # labels corresponding to the people in the images (e.g. 0, 1, 2, etc.)\n",
    "\n",
    "# Load the pretrained PCA transformer\n",
    "pca = PCA.load('path/to/pretrained_pca.pkl')\n",
    "\n",
    "# Set up the classification pipeline\n",
    "classifier = Pipeline([\n",
    "    ('pca', pca),\n",
    "    ('svm', SVC(kernel='linear', C=1.0))\n",
    "])\n",
    "\n",
    "# Train the classifier on the training data\n",
    "classifier.fit(X_train, y_train)\n",
    "\n",
    "# Now you can use the classifier to predict the label for a new image\n",
    "new_image = []  # load a new image of one of the people\n",
    "prediction = classifier.predict(new_image)\n",
    "print(prediction)  # should output the label corresponding to the person in the image\n"
   ]
  }
 ],
 "metadata": {
  "kernelspec": {
   "display_name": "Python 3",
   "language": "python",
   "name": "python3"
  },
  "language_info": {
   "codemirror_mode": {
    "name": "ipython",
    "version": 3
   },
   "file_extension": ".py",
   "mimetype": "text/x-python",
   "name": "python",
   "nbconvert_exporter": "python",
   "pygments_lexer": "ipython3",
   "version": "3.10.5 (tags/v3.10.5:f377153, Jun  6 2022, 16:14:13) [MSC v.1929 64 bit (AMD64)]"
  },
  "orig_nbformat": 4,
  "vscode": {
   "interpreter": {
    "hash": "c2ed1c1e3dda2d1d09010f3df351d528d97a393444344645f0fddd23da56b409"
   }
  }
 },
 "nbformat": 4,
 "nbformat_minor": 2
}
