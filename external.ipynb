{
 "cells": [
  {
   "cell_type": "code",
   "execution_count": 1,
   "metadata": {},
   "outputs": [
    {
     "ename": "KeyboardInterrupt",
     "evalue": "",
     "output_type": "error",
     "traceback": [
      "\u001b[1;31m---------------------------------------------------------------------------\u001b[0m",
      "\u001b[1;31mKeyboardInterrupt\u001b[0m                         Traceback (most recent call last)",
      "\u001b[1;32mc:\\Users\\Owner\\Documents\\GitHub\\Face_Recognition\\external.ipynb Cell 1\u001b[0m in \u001b[0;36m<cell line: 12>\u001b[1;34m()\u001b[0m\n\u001b[0;32m     <a href='vscode-notebook-cell:/c%3A/Users/Owner/Documents/GitHub/Face_Recognition/external.ipynb#W0sZmlsZQ%3D%3D?line=10'>11</a>\u001b[0m cap\u001b[39m=\u001b[39mcv2\u001b[39m.\u001b[39mVideoCapture(\u001b[39m0\u001b[39m)\n\u001b[0;32m     <a href='vscode-notebook-cell:/c%3A/Users/Owner/Documents/GitHub/Face_Recognition/external.ipynb#W0sZmlsZQ%3D%3D?line=11'>12</a>\u001b[0m \u001b[39mwhile\u001b[39;00m \u001b[39mTrue\u001b[39;00m:\n\u001b[0;32m     <a href='vscode-notebook-cell:/c%3A/Users/Owner/Documents/GitHub/Face_Recognition/external.ipynb#W0sZmlsZQ%3D%3D?line=12'>13</a>\u001b[0m     \u001b[39m# try to do cannay edge detection using opencv\u001b[39;00m\n\u001b[1;32m---> <a href='vscode-notebook-cell:/c%3A/Users/Owner/Documents/GitHub/Face_Recognition/external.ipynb#W0sZmlsZQ%3D%3D?line=13'>14</a>\u001b[0m     ret,frame\u001b[39m=\u001b[39mcap\u001b[39m.\u001b[39;49mread()\n\u001b[0;32m     <a href='vscode-notebook-cell:/c%3A/Users/Owner/Documents/GitHub/Face_Recognition/external.ipynb#W0sZmlsZQ%3D%3D?line=14'>15</a>\u001b[0m     frame\u001b[39m=\u001b[39mcv2\u001b[39m.\u001b[39mcvtColor(cv2\u001b[39m.\u001b[39mCanny(frame, \u001b[39m100\u001b[39m, \u001b[39m200\u001b[39m), cv2\u001b[39m.\u001b[39mCOLOR_GRAY2BGR)\n\u001b[0;32m     <a href='vscode-notebook-cell:/c%3A/Users/Owner/Documents/GitHub/Face_Recognition/external.ipynb#W0sZmlsZQ%3D%3D?line=15'>16</a>\u001b[0m     cv2\u001b[39m.\u001b[39mimshow(\u001b[39m\"\u001b[39m\u001b[39mframe\u001b[39m\u001b[39m\"\u001b[39m,frame)\n",
      "\u001b[1;31mKeyboardInterrupt\u001b[0m: "
     ]
    },
    {
     "ename": "",
     "evalue": "",
     "output_type": "error",
     "traceback": [
      "\u001b[1;31mThe Kernel crashed while executing code in the the current cell or a previous cell. Please review the code in the cell(s) to identify a possible cause of the failure. Click <a href='https://aka.ms/vscodeJupyterKernelCrash'>here</a> for more info. View Jupyter <a href='command:jupyter.viewOutput'>log</a> for further details."
     ]
    }
   ],
   "source": [
    "import cv2\n",
    "import av\n",
    "\n",
    "def callback(frame):\n",
    "    img = frame.to_ndarray(format=\"bgr24\")\n",
    "\n",
    "    img = cv2.cvtColor(cv2.Canny(img, 100, 200), cv2.COLOR_GRAY2BGR)\n",
    "    \n",
    "    # images.append(img)\n",
    "    return av.VideoFrame.from_ndarray(img, format=\"bgr24\")\n",
    "\n",
    "cap=cv2.VideoCapture(0)\n",
    "while True:\n",
    "    # try to do cannay edge detection using opencv\n",
    "    ret,frame=cap.read()\n",
    "    frame=cv2.cvtColor(cv2.Canny(frame, 100, 200), cv2.COLOR_GRAY2BGR)\n",
    "    cv2.imshow(\"frame\",frame)\n",
    "    if cv2.waitKey(1) & 0xFF == ord('q'):\n",
    "        break\n",
    "cap.release()\n",
    "cv2.destroyAllWindows()\n",
    " \n"
   ]
  },
  {
   "cell_type": "code",
   "execution_count": null,
   "metadata": {},
   "outputs": [],
   "source": [
    "import numpy as np\n",
    "from sklearn.decomposition import PCA\n",
    "from sklearn.svm import SVC\n",
    "from sklearn.pipeline import Pipeline\n",
    "\n",
    "# Load the training data\n",
    "X_train = []  # images of multiple people\n",
    "y_train = []  # labels corresponding to the people in the images (e.g. 0, 1, 2, etc.)\n",
    "\n",
    "# Load the pretrained PCA transformer\n",
    "pca = PCA.load('path/to/pretrained_pca.pkl')\n",
    "\n",
    "# Set up the classification pipeline\n",
    "classifier = Pipeline([\n",
    "    ('pca', pca),\n",
    "    ('svm', SVC(kernel='linear', C=1.0))\n",
    "])\n",
    "\n",
    "# Train the classifier on the training data\n",
    "classifier.fit(X_train, y_train)\n",
    "\n",
    "# Now you can use the classifier to predict the label for a new image\n",
    "new_image = []  # load a new image of one of the people\n",
    "prediction = classifier.predict(new_image)\n",
    "print(prediction)  # should output the label corresponding to the person in the image\n"
   ]
  },
  {
   "cell_type": "code",
   "execution_count": 3,
   "metadata": {},
   "outputs": [
    {
     "name": "stderr",
     "output_type": "stream",
     "text": [
      "C:\\Users\\Owner\\AppData\\Local\\Temp\\ipykernel_23788\\1245499946.py:17: DeprecationWarning: elementwise comparison failed; this will raise an error in the future.\n",
      "  if faces == ():\n"
     ]
    }
   ],
   "source": [
    "# capture 10 images and store them in X_train\n",
    "\n",
    "import cv2\n",
    "import numpy as np\n",
    "import time\n",
    "\n",
    "\n",
    "# extract the face from the training image sample\n",
    "def face_extractor(img):\n",
    "    # load the face cascade\n",
    "    face_cascade = cv2.CascadeClassifier('haarcascade_frontalface_default.xml')\n",
    "    # convert to grayscale\n",
    "    gray = cv2.cvtColor(img,cv2.COLOR_BGR2GRAY)\n",
    "    # detect faces\n",
    "    faces = face_cascade.detectMultiScale(gray, 1.3, 5)\n",
    "    # if no face detected\n",
    "    if faces == ():\n",
    "        return None\n",
    "    # crop all faces found\n",
    "    for (x,y,w,h) in faces:\n",
    "        cropped_face = img[y:y+h, x:x+w]\n",
    "    return cropped_face\n",
    "\n",
    "\n",
    " # initialize webcam\n",
    "cap = cv2.VideoCapture(0)\n",
    "count = 0\n",
    "# collect 100 samples of your face from webcam input\n",
    "while True:\n",
    "    ret, frame = cap.read()\n",
    "    if face_extractor(frame) is not None:\n",
    "        count += 1\n",
    "        face = cv2.resize(face_extractor(frame), (168,192))\n",
    "        # time.sleep(0.)\n",
    "        # save file in specified directory with unique name\n",
    "        file_name_path = 'testfaces\\\\test_' + str(count) + '.jpg'\n",
    "        cv2.imwrite(file_name_path, face)\n",
    "        # put count on images and display live count\n",
    "        cv2.putText(face, str(count), (50, 50), cv2.FONT_HERSHEY_COMPLEX, 1, (0,255,0), 2)\n",
    "        cv2.imshow('Face Cropper', face)\n",
    "    else:\n",
    "        print(\"Face not found\")\n",
    "        pass\n",
    "    if cv2.waitKey(1) == 13 or count == 1: #13 is the Enter Key\n",
    "        break\n",
    "    \n",
    "cap.release()\n",
    "\n",
    "cv2.destroyAllWindows()\n"
   ]
  },
  {
   "cell_type": "code",
   "execution_count": 18,
   "metadata": {},
   "outputs": [],
   "source": [
    "import os\n",
    "from matplotlib import pyplot as plt\n",
    "custom_images = []\n",
    "input_faces = os.listdir('testfaces')\n",
    "for face in input_faces:\n",
    "    testFace = (plt.imread('testfaces/'+face))\n",
    "    # preprocess faces to match the size of the training data\n",
    "    testFace = np.mean(testFace,axis=2).T.flatten()\n",
    "    custom_images.append(testFace)\n",
    "    # print(testFace.shape)\n",
    "\n",
    "\n",
    "# concatenate custom faces with original faces\n",
    "custom_images = np.array(custom_images)\n",
    "custom_images = custom_images.T\n",
    "X_train = custom_images"
   ]
  },
  {
   "cell_type": "code",
   "execution_count": 43,
   "metadata": {},
   "outputs": [
    {
     "data": {
      "text/plain": [
       "32256"
      ]
     },
     "execution_count": 43,
     "metadata": {},
     "output_type": "execute_result"
    }
   ],
   "source": [
    "tester_face = (plt.imread('test_1.jpg'))\n",
    "tester_face = np.mean(tester_face,axis=2).T.flatten()\n",
    "tester_face = tester_face.reshape(1,-1)\n",
    "tester_face.shape[1]"
   ]
  },
  {
   "cell_type": "code",
   "execution_count": 25,
   "metadata": {},
   "outputs": [],
   "source": [
    "# X_train = X_train.T\n",
    "X_train.shape[0]\n",
    "# add 50 2's to the labels\n",
    "for i in range(49):\n",
    "    y_train = np.append(y_train, np.ones(1)*2)"
   ]
  },
  {
   "cell_type": "code",
   "execution_count": 45,
   "metadata": {},
   "outputs": [
    {
     "name": "stdout",
     "output_type": "stream",
     "text": [
      "shape of X_train 100 100\n",
      "[1.]\n"
     ]
    }
   ],
   "source": [
    "import numpy as np\n",
    "from sklearn.decomposition import PCA\n",
    "from sklearn.svm import SVC\n",
    "from sklearn.pipeline import Pipeline\n",
    "from joblib import dump, load\n",
    "# Load the pretrained PCA transformer\n",
    "pca = load('pca.pkl')\n",
    "print(\"shape of X_train\", X_train.shape[0], y_train.shape[0])\n",
    "x_pca = pca.transform(X_train)\n",
    "classf = SVC(kernel='rbf', class_weight='balanced', C=1e3, gamma=0.001)\n",
    "classf.fit(x_pca, y_train)\n",
    "# Now you can use the classifier to predict the label for a new image\n",
    "new_image = []  # load a new image of one of the people\n",
    "tester_face = pca.transform(tester_face)\n",
    "prediction = classf.predict(tester_face)\n",
    "print(prediction)  # should output the label corresponding to the person in the image\n"
   ]
  },
  {
   "cell_type": "code",
   "execution_count": 35,
   "metadata": {},
   "outputs": [
    {
     "data": {
      "text/plain": [
       "1"
      ]
     },
     "execution_count": 35,
     "metadata": {},
     "output_type": "execute_result"
    }
   ],
   "source": [
    "type(prediction)\n",
    "int(prediction[0])"
   ]
  },
  {
   "cell_type": "code",
   "execution_count": 46,
   "metadata": {},
   "outputs": [
    {
     "data": {
      "text/plain": [
       "1"
      ]
     },
     "execution_count": 46,
     "metadata": {},
     "output_type": "execute_result"
    }
   ],
   "source": [
    "# a function to take in a face and return the prediction\n",
    "def predict_face(face):\n",
    "    face = np.mean(face,axis=2).T.flatten()\n",
    "    face = face.reshape(1,-1)\n",
    "    face = pca.transform(face)\n",
    "    prediction = classf.predict(face)\n",
    "    return int(prediction[0])\n",
    "\n",
    "# a function to take in a whole image and return the prediction\n",
    "def predict_image(image):\n",
    "    # load the face cascade\n",
    "    face_cascade = cv2.CascadeClassifier('haarcascade_frontalface_default.xml')\n",
    "    # convert to grayscale\n",
    "    gray = cv2.cvtColor(image,cv2.COLOR_BGR2GRAY)\n",
    "    # detect faces\n",
    "    faces = face_cascade.detectMultiScale(gray, 1.3, 5)\n",
    "    # if no face detected\n",
    "    \n",
    "    if faces is None:\n",
    "        return None\n",
    "    # crop all faces found\n",
    "    for (x,y,w,h) in faces:\n",
    "        cropped_face = image[y:y+h, x:x+w]\n",
    "    face = cv2.resize(cropped_face, (168,192))\n",
    "\n",
    "    return predict_face(face)\n",
    "\n",
    "predict_image(plt.imread('test_2.jpg'))"
   ]
  }
 ],
 "metadata": {
  "kernelspec": {
   "display_name": "Python 3",
   "language": "python",
   "name": "python3"
  },
  "language_info": {
   "codemirror_mode": {
    "name": "ipython",
    "version": 3
   },
   "file_extension": ".py",
   "mimetype": "text/x-python",
   "name": "python",
   "nbconvert_exporter": "python",
   "pygments_lexer": "ipython3",
   "version": "3.10.5"
  },
  "orig_nbformat": 4,
  "vscode": {
   "interpreter": {
    "hash": "c2ed1c1e3dda2d1d09010f3df351d528d97a393444344645f0fddd23da56b409"
   }
  }
 },
 "nbformat": 4,
 "nbformat_minor": 2
}
